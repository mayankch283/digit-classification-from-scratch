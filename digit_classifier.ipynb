{
  "nbformat": 4,
  "nbformat_minor": 0,
  "metadata": {
    "colab": {
      "provenance": []
    },
    "kernelspec": {
      "name": "python3",
      "display_name": "Python 3"
    },
    "language_info": {
      "name": "python"
    }
  },
  "cells": [
    {
      "cell_type": "code",
      "execution_count": null,
      "metadata": {
        "id": "1bBW5XKI-Cf3"
      },
      "outputs": [],
      "source": [
        "!pip install -Uqq fastai"
      ]
    },
    {
      "cell_type": "code",
      "source": [
        "from fastai.vision.all import *"
      ],
      "metadata": {
        "id": "cT6HHTAS-__S"
      },
      "execution_count": null,
      "outputs": []
    },
    {
      "cell_type": "code",
      "source": [
        "path = untar_data(URLs.MNIST_SAMPLE)\n",
        "Path.BASE_PATH = path"
      ],
      "metadata": {
        "id": "hnT74qtRBlU4",
        "colab": {
          "base_uri": "https://localhost:8080/",
          "height": 57
        },
        "outputId": "a2cee27d-d16c-4af4-c123-bfcc737a23b4"
      },
      "execution_count": null,
      "outputs": [
        {
          "output_type": "display_data",
          "data": {
            "text/plain": [
              "<IPython.core.display.HTML object>"
            ],
            "text/html": [
              "\n",
              "<style>\n",
              "    /* Turns off some styling */\n",
              "    progress {\n",
              "        /* gets rid of default border in Firefox and Opera. */\n",
              "        border: none;\n",
              "        /* Needs to be in here for Safari polyfill so background images work as expected. */\n",
              "        background-size: auto;\n",
              "    }\n",
              "    progress:not([value]), progress:not([value])::-webkit-progress-bar {\n",
              "        background: repeating-linear-gradient(45deg, #7e7e7e, #7e7e7e 10px, #5c5c5c 10px, #5c5c5c 20px);\n",
              "    }\n",
              "    .progress-bar-interrupted, .progress-bar-interrupted::-webkit-progress-bar {\n",
              "        background: #F44336;\n",
              "    }\n",
              "</style>\n"
            ]
          },
          "metadata": {}
        },
        {
          "output_type": "display_data",
          "data": {
            "text/plain": [
              "<IPython.core.display.HTML object>"
            ],
            "text/html": [
              "\n",
              "    <div>\n",
              "      <progress value='3219456' class='' max='3214948' style='width:300px; height:20px; vertical-align: middle;'></progress>\n",
              "      100.14% [3219456/3214948 00:00&lt;00:00]\n",
              "    </div>\n",
              "    "
            ]
          },
          "metadata": {}
        }
      ]
    },
    {
      "cell_type": "code",
      "source": [
        "path.ls()"
      ],
      "metadata": {
        "colab": {
          "base_uri": "https://localhost:8080/"
        },
        "id": "X_dTkjqrzf2B",
        "outputId": "33b475f2-3890-444a-953f-f0644132e37c"
      },
      "execution_count": null,
      "outputs": [
        {
          "output_type": "execute_result",
          "data": {
            "text/plain": [
              "(#3) [Path('train'),Path('valid'),Path('labels.csv')]"
            ]
          },
          "metadata": {},
          "execution_count": 4
        }
      ]
    },
    {
      "cell_type": "code",
      "source": [
        "(path/'valid').ls()"
      ],
      "metadata": {
        "colab": {
          "base_uri": "https://localhost:8080/"
        },
        "id": "GOa1Gs8Wz0rM",
        "outputId": "142f4bff-ae1c-407a-c52b-ccab6626cc11"
      },
      "execution_count": null,
      "outputs": [
        {
          "output_type": "execute_result",
          "data": {
            "text/plain": [
              "(#2) [Path('valid/3'),Path('valid/7')]"
            ]
          },
          "metadata": {},
          "execution_count": 5
        }
      ]
    },
    {
      "cell_type": "code",
      "source": [
        "threes = (path/'train'/'3').ls()\n",
        "sevens = (path/'train'/'7').ls()"
      ],
      "metadata": {
        "id": "PvSz2mkO1-Yv"
      },
      "execution_count": null,
      "outputs": []
    },
    {
      "cell_type": "code",
      "source": [
        "im3_path = threes[0]\n",
        "im3 = Image.open(im3_path)\n",
        "array(im3)"
      ],
      "metadata": {
        "colab": {
          "base_uri": "https://localhost:8080/",
          "height": 90
        },
        "id": "tJA8AMy5-oLy",
        "outputId": "31ee3197-bea1-4028-9568-1d86cd507dcd"
      },
      "execution_count": null,
      "outputs": [
        {
          "output_type": "execute_result",
          "data": {
            "text/plain": [
              "array([[  0,   0,   0,   0,   0,   0,   0,   0,   0,   0,   0,   0,   0,\n",
              "          0,   0,   0,   0,   0,   0,   0,   0,   0,   0,   0,   0,   0,\n",
              "          0,   0],\n",
              "       [  0,   0,   0,   0,   0,   0,   0,   0,   0,   0,   0,   0,   0,\n",
              "          0,   0,   0,   0,   0,   0,   0,   0,   0,   0,   0,   0,   0,\n",
              "          0,   0],\n",
              "       [  0,   0,   0,   0,   0,   0,   0,   0,   0,   0,   0,   0,   0,\n",
              "          0,   0,   0,   0,   0,   0,   0,   0,   0,   0,   0,   0,   0,\n",
              "          0,   0],\n",
              "       [  0,   0,   0,   0,   0,   0,   0,   0,   0,   0,   0,   0,   0,\n",
              "          0,   0,   0,   0,   0,   0,   0,   0,   0,   0,   0,   0,   0,\n",
              "          0,   0],\n",
              "       [  0,   0,   0,   0,   0,   0,   0,   0,   0,   0,   0,   0,   0,\n",
              "          0,   0,   0,   0,   0,   0,   0,   0,   0,   0,   0,   0,   0,\n",
              "          0,   0],\n",
              "       [  0,   0,   0,   0,   0,   0,   0,   0,   0, 128, 255, 255, 255,\n",
              "        255, 255, 255, 255, 191,  64,   0,   0,   0,   0,   0,   0,   0,\n",
              "          0,   0],\n",
              "       [  0,   0,   0,   0,   0,   0,  64, 191, 255, 255, 255, 255, 255,\n",
              "        255, 255, 255, 255, 255, 191,  64,   0,   0,   0,   0,   0,   0,\n",
              "          0,   0],\n",
              "       [  0,   0,   0,   0,   0,   0, 128, 255, 255, 255, 255, 255, 255,\n",
              "        255, 255, 255, 255, 255, 255, 128,   0,   0,   0,   0,   0,   0,\n",
              "          0,   0],\n",
              "       [  0,   0,   0,   0,   0,   0, 128, 255, 255, 255, 255, 128, 128,\n",
              "        128,   0,  64, 255, 255, 255, 128,   0,   0,   0,   0,   0,   0,\n",
              "          0,   0],\n",
              "       [  0,   0,   0,   0,   0,   0,   0,   0,   0,   0,   0,   0,   0,\n",
              "          0,   0, 128, 255, 255, 255, 255,   0,   0,   0,   0,   0,   0,\n",
              "          0,   0],\n",
              "       [  0,   0,   0,   0,   0,   0,   0,   0,   0,   0,   0,   0,   0,\n",
              "          0,   0, 128, 255, 255, 255, 191,   0,   0,   0,   0,   0,   0,\n",
              "          0,   0],\n",
              "       [  0,   0,   0,   0,   0,   0,   0,   0,   0,   0,   0,   0,   0,\n",
              "         64, 255, 255, 255, 255, 255,  64,   0,   0,   0,   0,   0,   0,\n",
              "          0,   0],\n",
              "       [  0,   0,   0,   0,   0,   0,   0,   0,   0,   0,   0, 128, 255,\n",
              "        255, 255, 255, 255, 255, 128,   0,   0,   0,   0,   0,   0,   0,\n",
              "          0,   0],\n",
              "       [  0,   0,   0,   0,   0,   0,   0,   0,   0,   0, 128, 255, 255,\n",
              "        255, 255, 255, 255, 255,  64,   0,   0,   0,   0,   0,   0,   0,\n",
              "          0,   0],\n",
              "       [  0,   0,   0,   0,   0,   0,   0,   0,   0,   0,  64, 255, 255,\n",
              "        255, 255, 255, 255, 255, 255,  64,   0,   0,   0,   0,   0,   0,\n",
              "          0,   0],\n",
              "       [  0,   0,   0,   0,   0,   0,   0,   0,   0,   0,   0,   0, 128,\n",
              "        128, 255, 255, 255, 255, 255, 255,   0,   0,   0,   0,   0,   0,\n",
              "          0,   0],\n",
              "       [  0,   0,   0,   0,   0,   0,   0,   0,   0,   0,   0,   0,   0,\n",
              "          0,   0, 191, 255, 255, 255, 255, 191,   0,   0,   0,   0,   0,\n",
              "          0,   0],\n",
              "       [  0,   0,   0,   0,   0,   0,   0,   0,   0,   0,   0,   0,   0,\n",
              "          0,   0,   0,  64, 255, 255, 255, 255,   0,   0,   0,   0,   0,\n",
              "          0,   0],\n",
              "       [  0,   0,   0,   0,   0,   0,   0,   0,   0,   0,   0,   0,   0,\n",
              "          0,   0,   0,   0, 255, 255, 255, 255, 128,   0,   0,   0,   0,\n",
              "          0,   0],\n",
              "       [  0,   0,   0,   0,   0,   0,   0,   0,   0,   0,   0,   0,   0,\n",
              "          0,   0,   0,   0, 255, 255, 255, 255, 128,   0,   0,   0,   0,\n",
              "          0,   0],\n",
              "       [  0,   0,   0,   0,   0,   0,   0,  64,  64,   0,   0,   0,   0,\n",
              "          0,   0,   0, 191, 255, 255, 255, 255,   0,   0,   0,   0,   0,\n",
              "          0,   0],\n",
              "       [  0,   0,   0,   0,   0,   0, 128, 255, 255, 255, 191, 128,   0,\n",
              "        128, 191, 255, 255, 255, 255, 255, 191,   0,   0,   0,   0,   0,\n",
              "          0,   0],\n",
              "       [  0,   0,   0,   0,   0,   0, 128, 255, 255, 255, 255, 255, 255,\n",
              "        255, 255, 255, 255, 255, 255, 255,   0,   0,   0,   0,   0,   0,\n",
              "          0,   0],\n",
              "       [  0,   0,   0,   0,   0,   0,   0, 128, 255, 255, 255, 255, 255,\n",
              "        255, 255, 255, 255, 255, 191,   0,   0,   0,   0,   0,   0,   0,\n",
              "          0,   0],\n",
              "       [  0,   0,   0,   0,   0,   0,   0,   0,   0,  64, 128, 255, 255,\n",
              "        255, 255, 255, 128,  64,   0,   0,   0,   0,   0,   0,   0,   0,\n",
              "          0,   0],\n",
              "       [  0,   0,   0,   0,   0,   0,   0,   0,   0,   0,   0,   0,   0,\n",
              "          0,   0,   0,   0,   0,   0,   0,   0,   0,   0,   0,   0,   0,\n",
              "          0,   0],\n",
              "       [  0,   0,   0,   0,   0,   0,   0,   0,   0,   0,   0,   0,   0,\n",
              "          0,   0,   0,   0,   0,   0,   0,   0,   0,   0,   0,   0,   0,\n",
              "          0,   0],\n",
              "       [  0,   0,   0,   0,   0,   0,   0,   0,   0,   0,   0,   0,   0,\n",
              "          0,   0,   0,   0,   0,   0,   0,   0,   0,   0,   0,   0,   0,\n",
              "          0,   0]], dtype=uint8)"
            ],
            "text/html": [
              "<style>\n",
              "      .ndarray_repr .ndarray_raw_data {\n",
              "        display: none;\n",
              "      }\n",
              "      .ndarray_repr.show_array .ndarray_raw_data {\n",
              "        display: block;\n",
              "      }\n",
              "      .ndarray_repr.show_array .ndarray_image_preview {\n",
              "        display: none;\n",
              "      }\n",
              "      </style>\n",
              "      <div id=\"id-0be2cf90-1446-4e9e-940e-389ce12ed466\" class=\"ndarray_repr\"><pre>ndarray (28, 28) <button style=\"padding: 0 2px;\">show data</button></pre><img src=\"data:image/png;base64,iVBORw0KGgoAAAANSUhEUgAAABwAAAAcCAAAAABXZoBIAAAAeUlEQVR4nM2RQRbDIAgFaV8Pxs1CT0ZuNlmYKgppNl10Vj5HvqAif4vRcF2NOp1hn6cMx8f6FcrfIqZ+d/MSO7HXdQpAardHgn1xdaGy2sdUK1veDDjA5awaB02EhqtHyGmfFj3HGuAm1n7OsxysscFWg2jzpoX7LQdXF3ifwclfUgAAAABJRU5ErkJggg==\" class=\"ndarray_image_preview\" /><pre class=\"ndarray_raw_data\">array([[  0,   0,   0,   0,   0,   0,   0,   0,   0,   0,   0,   0,   0,\n",
              "          0,   0,   0,   0,   0,   0,   0,   0,   0,   0,   0,   0,   0,\n",
              "          0,   0],\n",
              "       [  0,   0,   0,   0,   0,   0,   0,   0,   0,   0,   0,   0,   0,\n",
              "          0,   0,   0,   0,   0,   0,   0,   0,   0,   0,   0,   0,   0,\n",
              "          0,   0],\n",
              "       [  0,   0,   0,   0,   0,   0,   0,   0,   0,   0,   0,   0,   0,\n",
              "          0,   0,   0,   0,   0,   0,   0,   0,   0,   0,   0,   0,   0,\n",
              "          0,   0],\n",
              "       [  0,   0,   0,   0,   0,   0,   0,   0,   0,   0,   0,   0,   0,\n",
              "          0,   0,   0,   0,   0,   0,   0,   0,   0,   0,   0,   0,   0,\n",
              "          0,   0],\n",
              "       [  0,   0,   0,   0,   0,   0,   0,   0,   0,   0,   0,   0,   0,\n",
              "          0,   0,   0,   0,   0,   0,   0,   0,   0,   0,   0,   0,   0,\n",
              "          0,   0],\n",
              "       [  0,   0,   0,   0,   0,   0,   0,   0,   0, 128, 255, 255, 255,\n",
              "        255, 255, 255, 255, 191,  64,   0,   0,   0,   0,   0,   0,   0,\n",
              "          0,   0],\n",
              "       [  0,   0,   0,   0,   0,   0,  64, 191, 255, 255, 255, 255, 255,\n",
              "        255, 255, 255, 255, 255, 191,  64,   0,   0,   0,   0,   0,   0,\n",
              "          0,   0],\n",
              "       [  0,   0,   0,   0,   0,   0, 128, 255, 255, 255, 255, 255, 255,\n",
              "        255, 255, 255, 255, 255, 255, 128,   0,   0,   0,   0,   0,   0,\n",
              "          0,   0],\n",
              "       [  0,   0,   0,   0,   0,   0, 128, 255, 255, 255, 255, 128, 128,\n",
              "        128,   0,  64, 255, 255, 255, 128,   0,   0,   0,   0,   0,   0,\n",
              "          0,   0],\n",
              "       [  0,   0,   0,   0,   0,   0,   0,   0,   0,   0,   0,   0,   0,\n",
              "          0,   0, 128, 255, 255, 255, 255,   0,   0,   0,   0,   0,   0,\n",
              "          0,   0],\n",
              "       [  0,   0,   0,   0,   0,   0,   0,   0,   0,   0,   0,   0,   0,\n",
              "          0,   0, 128, 255, 255, 255, 191,   0,   0,   0,   0,   0,   0,\n",
              "          0,   0],\n",
              "       [  0,   0,   0,   0,   0,   0,   0,   0,   0,   0,   0,   0,   0,\n",
              "         64, 255, 255, 255, 255, 255,  64,   0,   0,   0,   0,   0,   0,\n",
              "          0,   0],\n",
              "       [  0,   0,   0,   0,   0,   0,   0,   0,   0,   0,   0, 128, 255,\n",
              "        255, 255, 255, 255, 255, 128,   0,   0,   0,   0,   0,   0,   0,\n",
              "          0,   0],\n",
              "       [  0,   0,   0,   0,   0,   0,   0,   0,   0,   0, 128, 255, 255,\n",
              "        255, 255, 255, 255, 255,  64,   0,   0,   0,   0,   0,   0,   0,\n",
              "          0,   0],\n",
              "       [  0,   0,   0,   0,   0,   0,   0,   0,   0,   0,  64, 255, 255,\n",
              "        255, 255, 255, 255, 255, 255,  64,   0,   0,   0,   0,   0,   0,\n",
              "          0,   0],\n",
              "       [  0,   0,   0,   0,   0,   0,   0,   0,   0,   0,   0,   0, 128,\n",
              "        128, 255, 255, 255, 255, 255, 255,   0,   0,   0,   0,   0,   0,\n",
              "          0,   0],\n",
              "       [  0,   0,   0,   0,   0,   0,   0,   0,   0,   0,   0,   0,   0,\n",
              "          0,   0, 191, 255, 255, 255, 255, 191,   0,   0,   0,   0,   0,\n",
              "          0,   0],\n",
              "       [  0,   0,   0,   0,   0,   0,   0,   0,   0,   0,   0,   0,   0,\n",
              "          0,   0,   0,  64, 255, 255, 255, 255,   0,   0,   0,   0,   0,\n",
              "          0,   0],\n",
              "       [  0,   0,   0,   0,   0,   0,   0,   0,   0,   0,   0,   0,   0,\n",
              "          0,   0,   0,   0, 255, 255, 255, 255, 128,   0,   0,   0,   0,\n",
              "          0,   0],\n",
              "       [  0,   0,   0,   0,   0,   0,   0,   0,   0,   0,   0,   0,   0,\n",
              "          0,   0,   0,   0, 255, 255, 255, 255, 128,   0,   0,   0,   0,\n",
              "          0,   0],\n",
              "       [  0,   0,   0,   0,   0,   0,   0,  64,  64,   0,   0,   0,   0,\n",
              "          0,   0,   0, 191, 255, 255, 255, 255,   0,   0,   0,   0,   0,\n",
              "          0,   0],\n",
              "       [  0,   0,   0,   0,   0,   0, 128, 255, 255, 255, 191, 128,   0,\n",
              "        128, 191, 255, 255, 255, 255, 255, 191,   0,   0,   0,   0,   0,\n",
              "          0,   0],\n",
              "       [  0,   0,   0,   0,   0,   0, 128, 255, 255, 255, 255, 255, 255,\n",
              "        255, 255, 255, 255, 255, 255, 255,   0,   0,   0,   0,   0,   0,\n",
              "          0,   0],\n",
              "       [  0,   0,   0,   0,   0,   0,   0, 128, 255, 255, 255, 255, 255,\n",
              "        255, 255, 255, 255, 255, 191,   0,   0,   0,   0,   0,   0,   0,\n",
              "          0,   0],\n",
              "       [  0,   0,   0,   0,   0,   0,   0,   0,   0,  64, 128, 255, 255,\n",
              "        255, 255, 255, 128,  64,   0,   0,   0,   0,   0,   0,   0,   0,\n",
              "          0,   0],\n",
              "       [  0,   0,   0,   0,   0,   0,   0,   0,   0,   0,   0,   0,   0,\n",
              "          0,   0,   0,   0,   0,   0,   0,   0,   0,   0,   0,   0,   0,\n",
              "          0,   0],\n",
              "       [  0,   0,   0,   0,   0,   0,   0,   0,   0,   0,   0,   0,   0,\n",
              "          0,   0,   0,   0,   0,   0,   0,   0,   0,   0,   0,   0,   0,\n",
              "          0,   0],\n",
              "       [  0,   0,   0,   0,   0,   0,   0,   0,   0,   0,   0,   0,   0,\n",
              "          0,   0,   0,   0,   0,   0,   0,   0,   0,   0,   0,   0,   0,\n",
              "          0,   0]], dtype=uint8)</pre></div><script>\n",
              "      (() => {\n",
              "      const titles = ['show data', 'hide data'];\n",
              "      let index = 0\n",
              "      document.querySelector('#id-0be2cf90-1446-4e9e-940e-389ce12ed466 button').onclick = (e) => {\n",
              "        document.querySelector('#id-0be2cf90-1446-4e9e-940e-389ce12ed466').classList.toggle('show_array');\n",
              "        index = (++index) % 2;\n",
              "        document.querySelector('#id-0be2cf90-1446-4e9e-940e-389ce12ed466 button').textContent = titles[index];\n",
              "        e.preventDefault();\n",
              "        e.stopPropagation();\n",
              "      }\n",
              "      })();\n",
              "    </script>"
            ]
          },
          "metadata": {},
          "execution_count": 7
        }
      ]
    },
    {
      "cell_type": "markdown",
      "source": [
        "**Baseline: Pixel Similarity**"
      ],
      "metadata": {
        "id": "CiL-7ZfG7Lud"
      }
    },
    {
      "cell_type": "code",
      "source": [
        "#A Tensor is a N-dimensional Matrix: A Scalar is a 0-dimensional tensor. A Vector is a 1-dimensional tensor. A Matrix is a 2-dimensional tensor.\n",
        "\n",
        "im3_t = tensor(im3)\n",
        "df = pd.DataFrame(im3_t)\n",
        "df.style.set_properties(**{'font-size':'6pt'}).background_gradient('Greys')"
      ],
      "metadata": {
        "collapsed": true,
        "colab": {
          "base_uri": "https://localhost:8080/",
          "height": 948
        },
        "id": "V7lNo5laBMB7",
        "outputId": "486edcd2-b2ee-4fe7-9741-88247ce3ce42"
      },
      "execution_count": null,
      "outputs": [
        {
          "output_type": "execute_result",
          "data": {
            "text/plain": [
              "<pandas.io.formats.style.Styler at 0x7b56f95a38e0>"
            ],
            "text/html": [
              "<style type=\"text/css\">\n",
              "#T_06743_row0_col0, #T_06743_row0_col1, #T_06743_row0_col2, #T_06743_row0_col3, #T_06743_row0_col4, #T_06743_row0_col5, #T_06743_row0_col6, #T_06743_row0_col7, #T_06743_row0_col8, #T_06743_row0_col9, #T_06743_row0_col10, #T_06743_row0_col11, #T_06743_row0_col12, #T_06743_row0_col13, #T_06743_row0_col14, #T_06743_row0_col15, #T_06743_row0_col16, #T_06743_row0_col17, #T_06743_row0_col18, #T_06743_row0_col19, #T_06743_row0_col20, #T_06743_row0_col21, #T_06743_row0_col22, #T_06743_row0_col23, #T_06743_row0_col24, #T_06743_row0_col25, #T_06743_row0_col26, #T_06743_row0_col27, #T_06743_row1_col0, #T_06743_row1_col1, #T_06743_row1_col2, #T_06743_row1_col3, #T_06743_row1_col4, #T_06743_row1_col5, #T_06743_row1_col6, #T_06743_row1_col7, #T_06743_row1_col8, #T_06743_row1_col9, #T_06743_row1_col10, #T_06743_row1_col11, #T_06743_row1_col12, #T_06743_row1_col13, #T_06743_row1_col14, #T_06743_row1_col15, #T_06743_row1_col16, #T_06743_row1_col17, #T_06743_row1_col18, #T_06743_row1_col19, #T_06743_row1_col20, #T_06743_row1_col21, #T_06743_row1_col22, #T_06743_row1_col23, #T_06743_row1_col24, #T_06743_row1_col25, #T_06743_row1_col26, #T_06743_row1_col27, #T_06743_row2_col0, #T_06743_row2_col1, #T_06743_row2_col2, #T_06743_row2_col3, #T_06743_row2_col4, #T_06743_row2_col5, #T_06743_row2_col6, #T_06743_row2_col7, #T_06743_row2_col8, #T_06743_row2_col9, #T_06743_row2_col10, #T_06743_row2_col11, #T_06743_row2_col12, #T_06743_row2_col13, #T_06743_row2_col14, #T_06743_row2_col15, #T_06743_row2_col16, #T_06743_row2_col17, #T_06743_row2_col18, #T_06743_row2_col19, #T_06743_row2_col20, #T_06743_row2_col21, #T_06743_row2_col22, #T_06743_row2_col23, #T_06743_row2_col24, #T_06743_row2_col25, #T_06743_row2_col26, #T_06743_row2_col27, #T_06743_row3_col0, #T_06743_row3_col1, #T_06743_row3_col2, #T_06743_row3_col3, #T_06743_row3_col4, #T_06743_row3_col5, #T_06743_row3_col6, #T_06743_row3_col7, #T_06743_row3_col8, #T_06743_row3_col9, #T_06743_row3_col10, #T_06743_row3_col11, #T_06743_row3_col12, #T_06743_row3_col13, #T_06743_row3_col14, #T_06743_row3_col15, #T_06743_row3_col16, #T_06743_row3_col17, #T_06743_row3_col18, #T_06743_row3_col19, #T_06743_row3_col20, #T_06743_row3_col21, #T_06743_row3_col22, #T_06743_row3_col23, #T_06743_row3_col24, #T_06743_row3_col25, #T_06743_row3_col26, #T_06743_row3_col27, #T_06743_row4_col0, #T_06743_row4_col1, #T_06743_row4_col2, #T_06743_row4_col3, #T_06743_row4_col4, #T_06743_row4_col5, #T_06743_row4_col6, #T_06743_row4_col7, #T_06743_row4_col8, #T_06743_row4_col9, #T_06743_row4_col10, #T_06743_row4_col11, #T_06743_row4_col12, #T_06743_row4_col13, #T_06743_row4_col14, #T_06743_row4_col15, #T_06743_row4_col16, #T_06743_row4_col17, #T_06743_row4_col18, #T_06743_row4_col19, #T_06743_row4_col20, #T_06743_row4_col21, #T_06743_row4_col22, #T_06743_row4_col23, #T_06743_row4_col24, #T_06743_row4_col25, #T_06743_row4_col26, #T_06743_row4_col27, #T_06743_row5_col0, #T_06743_row5_col1, #T_06743_row5_col2, #T_06743_row5_col3, #T_06743_row5_col4, #T_06743_row5_col5, #T_06743_row5_col6, #T_06743_row5_col7, #T_06743_row5_col8, #T_06743_row5_col19, #T_06743_row5_col20, #T_06743_row5_col21, #T_06743_row5_col22, #T_06743_row5_col23, #T_06743_row5_col24, #T_06743_row5_col25, #T_06743_row5_col26, #T_06743_row5_col27, #T_06743_row6_col0, #T_06743_row6_col1, #T_06743_row6_col2, #T_06743_row6_col3, #T_06743_row6_col4, #T_06743_row6_col5, #T_06743_row6_col20, #T_06743_row6_col21, #T_06743_row6_col22, #T_06743_row6_col23, #T_06743_row6_col24, #T_06743_row6_col25, #T_06743_row6_col26, #T_06743_row6_col27, #T_06743_row7_col0, #T_06743_row7_col1, #T_06743_row7_col2, #T_06743_row7_col3, #T_06743_row7_col4, #T_06743_row7_col5, #T_06743_row7_col20, #T_06743_row7_col21, #T_06743_row7_col22, #T_06743_row7_col23, #T_06743_row7_col24, #T_06743_row7_col25, #T_06743_row7_col26, #T_06743_row7_col27, #T_06743_row8_col0, #T_06743_row8_col1, #T_06743_row8_col2, #T_06743_row8_col3, #T_06743_row8_col4, #T_06743_row8_col5, #T_06743_row8_col14, #T_06743_row8_col20, #T_06743_row8_col21, #T_06743_row8_col22, #T_06743_row8_col23, #T_06743_row8_col24, #T_06743_row8_col25, #T_06743_row8_col26, #T_06743_row8_col27, #T_06743_row9_col0, #T_06743_row9_col1, #T_06743_row9_col2, #T_06743_row9_col3, #T_06743_row9_col4, #T_06743_row9_col5, #T_06743_row9_col6, #T_06743_row9_col7, #T_06743_row9_col8, #T_06743_row9_col9, #T_06743_row9_col10, #T_06743_row9_col11, #T_06743_row9_col12, #T_06743_row9_col13, #T_06743_row9_col14, #T_06743_row9_col20, #T_06743_row9_col21, #T_06743_row9_col22, #T_06743_row9_col23, #T_06743_row9_col24, #T_06743_row9_col25, #T_06743_row9_col26, #T_06743_row9_col27, #T_06743_row10_col0, #T_06743_row10_col1, #T_06743_row10_col2, #T_06743_row10_col3, #T_06743_row10_col4, #T_06743_row10_col5, #T_06743_row10_col6, #T_06743_row10_col7, #T_06743_row10_col8, #T_06743_row10_col9, #T_06743_row10_col10, #T_06743_row10_col11, #T_06743_row10_col12, #T_06743_row10_col13, #T_06743_row10_col14, #T_06743_row10_col20, #T_06743_row10_col21, #T_06743_row10_col22, #T_06743_row10_col23, #T_06743_row10_col24, #T_06743_row10_col25, #T_06743_row10_col26, #T_06743_row10_col27, #T_06743_row11_col0, #T_06743_row11_col1, #T_06743_row11_col2, #T_06743_row11_col3, #T_06743_row11_col4, #T_06743_row11_col5, #T_06743_row11_col6, #T_06743_row11_col7, #T_06743_row11_col8, #T_06743_row11_col9, #T_06743_row11_col10, #T_06743_row11_col11, #T_06743_row11_col12, #T_06743_row11_col20, #T_06743_row11_col21, #T_06743_row11_col22, #T_06743_row11_col23, #T_06743_row11_col24, #T_06743_row11_col25, #T_06743_row11_col26, #T_06743_row11_col27, #T_06743_row12_col0, #T_06743_row12_col1, #T_06743_row12_col2, #T_06743_row12_col3, #T_06743_row12_col4, #T_06743_row12_col5, #T_06743_row12_col6, #T_06743_row12_col7, #T_06743_row12_col8, #T_06743_row12_col9, #T_06743_row12_col10, #T_06743_row12_col19, #T_06743_row12_col20, #T_06743_row12_col21, #T_06743_row12_col22, #T_06743_row12_col23, #T_06743_row12_col24, #T_06743_row12_col25, #T_06743_row12_col26, #T_06743_row12_col27, #T_06743_row13_col0, #T_06743_row13_col1, #T_06743_row13_col2, #T_06743_row13_col3, #T_06743_row13_col4, #T_06743_row13_col5, #T_06743_row13_col6, #T_06743_row13_col7, #T_06743_row13_col8, #T_06743_row13_col9, #T_06743_row13_col19, #T_06743_row13_col20, #T_06743_row13_col21, #T_06743_row13_col22, #T_06743_row13_col23, #T_06743_row13_col24, #T_06743_row13_col25, #T_06743_row13_col26, #T_06743_row13_col27, #T_06743_row14_col0, #T_06743_row14_col1, #T_06743_row14_col2, #T_06743_row14_col3, #T_06743_row14_col4, #T_06743_row14_col5, #T_06743_row14_col6, #T_06743_row14_col7, #T_06743_row14_col8, #T_06743_row14_col9, #T_06743_row14_col20, #T_06743_row14_col21, #T_06743_row14_col22, #T_06743_row14_col23, #T_06743_row14_col24, #T_06743_row14_col25, #T_06743_row14_col26, #T_06743_row14_col27, #T_06743_row15_col0, #T_06743_row15_col1, #T_06743_row15_col2, #T_06743_row15_col3, #T_06743_row15_col4, #T_06743_row15_col5, #T_06743_row15_col6, #T_06743_row15_col7, #T_06743_row15_col8, #T_06743_row15_col9, #T_06743_row15_col10, #T_06743_row15_col11, #T_06743_row15_col20, #T_06743_row15_col21, #T_06743_row15_col22, #T_06743_row15_col23, #T_06743_row15_col24, #T_06743_row15_col25, #T_06743_row15_col26, #T_06743_row15_col27, #T_06743_row16_col0, #T_06743_row16_col1, #T_06743_row16_col2, #T_06743_row16_col3, #T_06743_row16_col4, #T_06743_row16_col5, #T_06743_row16_col6, #T_06743_row16_col7, #T_06743_row16_col8, #T_06743_row16_col9, #T_06743_row16_col10, #T_06743_row16_col11, #T_06743_row16_col12, #T_06743_row16_col13, #T_06743_row16_col14, #T_06743_row16_col21, #T_06743_row16_col22, #T_06743_row16_col23, #T_06743_row16_col24, #T_06743_row16_col25, #T_06743_row16_col26, #T_06743_row16_col27, #T_06743_row17_col0, #T_06743_row17_col1, #T_06743_row17_col2, #T_06743_row17_col3, #T_06743_row17_col4, #T_06743_row17_col5, #T_06743_row17_col6, #T_06743_row17_col7, #T_06743_row17_col8, #T_06743_row17_col9, #T_06743_row17_col10, #T_06743_row17_col11, #T_06743_row17_col12, #T_06743_row17_col13, #T_06743_row17_col14, #T_06743_row17_col15, #T_06743_row17_col21, #T_06743_row17_col22, #T_06743_row17_col23, #T_06743_row17_col24, #T_06743_row17_col25, #T_06743_row17_col26, #T_06743_row17_col27, #T_06743_row18_col0, #T_06743_row18_col1, #T_06743_row18_col2, #T_06743_row18_col3, #T_06743_row18_col4, #T_06743_row18_col5, #T_06743_row18_col6, #T_06743_row18_col7, #T_06743_row18_col8, #T_06743_row18_col9, #T_06743_row18_col10, #T_06743_row18_col11, #T_06743_row18_col12, #T_06743_row18_col13, #T_06743_row18_col14, #T_06743_row18_col15, #T_06743_row18_col16, #T_06743_row18_col22, #T_06743_row18_col23, #T_06743_row18_col24, #T_06743_row18_col25, #T_06743_row18_col26, #T_06743_row18_col27, #T_06743_row19_col0, #T_06743_row19_col1, #T_06743_row19_col2, #T_06743_row19_col3, #T_06743_row19_col4, #T_06743_row19_col5, #T_06743_row19_col6, #T_06743_row19_col7, #T_06743_row19_col8, #T_06743_row19_col9, #T_06743_row19_col10, #T_06743_row19_col11, #T_06743_row19_col12, #T_06743_row19_col13, #T_06743_row19_col14, #T_06743_row19_col15, #T_06743_row19_col16, #T_06743_row19_col22, #T_06743_row19_col23, #T_06743_row19_col24, #T_06743_row19_col25, #T_06743_row19_col26, #T_06743_row19_col27, #T_06743_row20_col0, #T_06743_row20_col1, #T_06743_row20_col2, #T_06743_row20_col3, #T_06743_row20_col4, #T_06743_row20_col5, #T_06743_row20_col6, #T_06743_row20_col9, #T_06743_row20_col10, #T_06743_row20_col11, #T_06743_row20_col12, #T_06743_row20_col13, #T_06743_row20_col14, #T_06743_row20_col15, #T_06743_row20_col21, #T_06743_row20_col22, #T_06743_row20_col23, #T_06743_row20_col24, #T_06743_row20_col25, #T_06743_row20_col26, #T_06743_row20_col27, #T_06743_row21_col0, #T_06743_row21_col1, #T_06743_row21_col2, #T_06743_row21_col3, #T_06743_row21_col4, #T_06743_row21_col5, #T_06743_row21_col12, #T_06743_row21_col21, #T_06743_row21_col22, #T_06743_row21_col23, #T_06743_row21_col24, #T_06743_row21_col25, #T_06743_row21_col26, #T_06743_row21_col27, #T_06743_row22_col0, #T_06743_row22_col1, #T_06743_row22_col2, #T_06743_row22_col3, #T_06743_row22_col4, #T_06743_row22_col5, #T_06743_row22_col20, #T_06743_row22_col21, #T_06743_row22_col22, #T_06743_row22_col23, #T_06743_row22_col24, #T_06743_row22_col25, #T_06743_row22_col26, #T_06743_row22_col27, #T_06743_row23_col0, #T_06743_row23_col1, #T_06743_row23_col2, #T_06743_row23_col3, #T_06743_row23_col4, #T_06743_row23_col5, #T_06743_row23_col6, #T_06743_row23_col19, #T_06743_row23_col20, #T_06743_row23_col21, #T_06743_row23_col22, #T_06743_row23_col23, #T_06743_row23_col24, #T_06743_row23_col25, #T_06743_row23_col26, #T_06743_row23_col27, #T_06743_row24_col0, #T_06743_row24_col1, #T_06743_row24_col2, #T_06743_row24_col3, #T_06743_row24_col4, #T_06743_row24_col5, #T_06743_row24_col6, #T_06743_row24_col7, #T_06743_row24_col8, #T_06743_row24_col18, #T_06743_row24_col19, #T_06743_row24_col20, #T_06743_row24_col21, #T_06743_row24_col22, #T_06743_row24_col23, #T_06743_row24_col24, #T_06743_row24_col25, #T_06743_row24_col26, #T_06743_row24_col27, #T_06743_row25_col0, #T_06743_row25_col1, #T_06743_row25_col2, #T_06743_row25_col3, #T_06743_row25_col4, #T_06743_row25_col5, #T_06743_row25_col6, #T_06743_row25_col7, #T_06743_row25_col8, #T_06743_row25_col9, #T_06743_row25_col10, #T_06743_row25_col11, #T_06743_row25_col12, #T_06743_row25_col13, #T_06743_row25_col14, #T_06743_row25_col15, #T_06743_row25_col16, #T_06743_row25_col17, #T_06743_row25_col18, #T_06743_row25_col19, #T_06743_row25_col20, #T_06743_row25_col21, #T_06743_row25_col22, #T_06743_row25_col23, #T_06743_row25_col24, #T_06743_row25_col25, #T_06743_row25_col26, #T_06743_row25_col27, #T_06743_row26_col0, #T_06743_row26_col1, #T_06743_row26_col2, #T_06743_row26_col3, #T_06743_row26_col4, #T_06743_row26_col5, #T_06743_row26_col6, #T_06743_row26_col7, #T_06743_row26_col8, #T_06743_row26_col9, #T_06743_row26_col10, #T_06743_row26_col11, #T_06743_row26_col12, #T_06743_row26_col13, #T_06743_row26_col14, #T_06743_row26_col15, #T_06743_row26_col16, #T_06743_row26_col17, #T_06743_row26_col18, #T_06743_row26_col19, #T_06743_row26_col20, #T_06743_row26_col21, #T_06743_row26_col22, #T_06743_row26_col23, #T_06743_row26_col24, #T_06743_row26_col25, #T_06743_row26_col26, #T_06743_row26_col27, #T_06743_row27_col0, #T_06743_row27_col1, #T_06743_row27_col2, #T_06743_row27_col3, #T_06743_row27_col4, #T_06743_row27_col5, #T_06743_row27_col6, #T_06743_row27_col7, #T_06743_row27_col8, #T_06743_row27_col9, #T_06743_row27_col10, #T_06743_row27_col11, #T_06743_row27_col12, #T_06743_row27_col13, #T_06743_row27_col14, #T_06743_row27_col15, #T_06743_row27_col16, #T_06743_row27_col17, #T_06743_row27_col18, #T_06743_row27_col19, #T_06743_row27_col20, #T_06743_row27_col21, #T_06743_row27_col22, #T_06743_row27_col23, #T_06743_row27_col24, #T_06743_row27_col25, #T_06743_row27_col26, #T_06743_row27_col27 {\n",
              "  font-size: 6pt;\n",
              "  background-color: #ffffff;\n",
              "  color: #000000;\n",
              "}\n",
              "#T_06743_row5_col9, #T_06743_row6_col6, #T_06743_row7_col19, #T_06743_row8_col11, #T_06743_row8_col12, #T_06743_row8_col13, #T_06743_row8_col19, #T_06743_row9_col15, #T_06743_row10_col15, #T_06743_row12_col11, #T_06743_row12_col18, #T_06743_row13_col10, #T_06743_row15_col12, #T_06743_row15_col13, #T_06743_row21_col11, #T_06743_row21_col13, #T_06743_row23_col7, #T_06743_row24_col10, #T_06743_row24_col16 {\n",
              "  font-size: 6pt;\n",
              "  background-color: #959595;\n",
              "  color: #f1f1f1;\n",
              "}\n",
              "#T_06743_row5_col10, #T_06743_row5_col11, #T_06743_row5_col12, #T_06743_row5_col13, #T_06743_row5_col14, #T_06743_row5_col15, #T_06743_row5_col16, #T_06743_row6_col8, #T_06743_row6_col9, #T_06743_row6_col10, #T_06743_row6_col11, #T_06743_row6_col12, #T_06743_row6_col13, #T_06743_row6_col14, #T_06743_row6_col15, #T_06743_row6_col16, #T_06743_row6_col17, #T_06743_row7_col6, #T_06743_row7_col7, #T_06743_row7_col8, #T_06743_row7_col9, #T_06743_row7_col10, #T_06743_row7_col11, #T_06743_row7_col12, #T_06743_row7_col13, #T_06743_row7_col14, #T_06743_row7_col15, #T_06743_row7_col16, #T_06743_row7_col17, #T_06743_row7_col18, #T_06743_row8_col6, #T_06743_row8_col7, #T_06743_row8_col8, #T_06743_row8_col9, #T_06743_row8_col10, #T_06743_row8_col16, #T_06743_row8_col17, #T_06743_row8_col18, #T_06743_row9_col16, #T_06743_row9_col17, #T_06743_row9_col18, #T_06743_row9_col19, #T_06743_row10_col16, #T_06743_row10_col17, #T_06743_row10_col18, #T_06743_row11_col14, #T_06743_row11_col15, #T_06743_row11_col16, #T_06743_row11_col17, #T_06743_row11_col18, #T_06743_row12_col12, #T_06743_row12_col13, #T_06743_row12_col14, #T_06743_row12_col15, #T_06743_row12_col16, #T_06743_row12_col17, #T_06743_row13_col11, #T_06743_row13_col12, #T_06743_row13_col13, #T_06743_row13_col14, #T_06743_row13_col15, #T_06743_row13_col16, #T_06743_row13_col17, #T_06743_row14_col11, #T_06743_row14_col12, #T_06743_row14_col13, #T_06743_row14_col14, #T_06743_row14_col15, #T_06743_row14_col16, #T_06743_row14_col17, #T_06743_row14_col18, #T_06743_row15_col14, #T_06743_row15_col15, #T_06743_row15_col16, #T_06743_row15_col17, #T_06743_row15_col18, #T_06743_row15_col19, #T_06743_row16_col16, #T_06743_row16_col17, #T_06743_row16_col18, #T_06743_row16_col19, #T_06743_row17_col17, #T_06743_row17_col18, #T_06743_row17_col19, #T_06743_row17_col20, #T_06743_row18_col17, #T_06743_row18_col18, #T_06743_row18_col19, #T_06743_row18_col20, #T_06743_row18_col21, #T_06743_row19_col17, #T_06743_row19_col18, #T_06743_row19_col19, #T_06743_row19_col20, #T_06743_row19_col21, #T_06743_row20_col17, #T_06743_row20_col18, #T_06743_row20_col19, #T_06743_row20_col20, #T_06743_row21_col6, #T_06743_row21_col7, #T_06743_row21_col8, #T_06743_row21_col9, #T_06743_row21_col15, #T_06743_row21_col16, #T_06743_row21_col17, #T_06743_row21_col18, #T_06743_row21_col19, #T_06743_row22_col6, #T_06743_row22_col7, #T_06743_row22_col8, #T_06743_row22_col9, #T_06743_row22_col10, #T_06743_row22_col11, #T_06743_row22_col12, #T_06743_row22_col13, #T_06743_row22_col14, #T_06743_row22_col15, #T_06743_row22_col16, #T_06743_row22_col17, #T_06743_row22_col18, #T_06743_row22_col19, #T_06743_row23_col8, #T_06743_row23_col9, #T_06743_row23_col10, #T_06743_row23_col11, #T_06743_row23_col12, #T_06743_row23_col13, #T_06743_row23_col14, #T_06743_row23_col15, #T_06743_row23_col16, #T_06743_row23_col17, #T_06743_row24_col11, #T_06743_row24_col12, #T_06743_row24_col13, #T_06743_row24_col14, #T_06743_row24_col15 {\n",
              "  font-size: 6pt;\n",
              "  background-color: #000000;\n",
              "  color: #f1f1f1;\n",
              "}\n",
              "#T_06743_row5_col17, #T_06743_row6_col7, #T_06743_row6_col18, #T_06743_row10_col19, #T_06743_row16_col15, #T_06743_row16_col20, #T_06743_row20_col16, #T_06743_row21_col10, #T_06743_row21_col14, #T_06743_row21_col20, #T_06743_row23_col18 {\n",
              "  font-size: 6pt;\n",
              "  background-color: #525252;\n",
              "  color: #f1f1f1;\n",
              "}\n",
              "#T_06743_row5_col18, #T_06743_row6_col19, #T_06743_row8_col15, #T_06743_row11_col13, #T_06743_row11_col19, #T_06743_row13_col18, #T_06743_row14_col10, #T_06743_row14_col19, #T_06743_row17_col16, #T_06743_row20_col7, #T_06743_row20_col8, #T_06743_row24_col9, #T_06743_row24_col17 {\n",
              "  font-size: 6pt;\n",
              "  background-color: #d9d9d9;\n",
              "  color: #000000;\n",
              "}\n",
              "</style>\n",
              "<table id=\"T_06743\" class=\"dataframe\">\n",
              "  <thead>\n",
              "    <tr>\n",
              "      <th class=\"blank level0\" >&nbsp;</th>\n",
              "      <th id=\"T_06743_level0_col0\" class=\"col_heading level0 col0\" >0</th>\n",
              "      <th id=\"T_06743_level0_col1\" class=\"col_heading level0 col1\" >1</th>\n",
              "      <th id=\"T_06743_level0_col2\" class=\"col_heading level0 col2\" >2</th>\n",
              "      <th id=\"T_06743_level0_col3\" class=\"col_heading level0 col3\" >3</th>\n",
              "      <th id=\"T_06743_level0_col4\" class=\"col_heading level0 col4\" >4</th>\n",
              "      <th id=\"T_06743_level0_col5\" class=\"col_heading level0 col5\" >5</th>\n",
              "      <th id=\"T_06743_level0_col6\" class=\"col_heading level0 col6\" >6</th>\n",
              "      <th id=\"T_06743_level0_col7\" class=\"col_heading level0 col7\" >7</th>\n",
              "      <th id=\"T_06743_level0_col8\" class=\"col_heading level0 col8\" >8</th>\n",
              "      <th id=\"T_06743_level0_col9\" class=\"col_heading level0 col9\" >9</th>\n",
              "      <th id=\"T_06743_level0_col10\" class=\"col_heading level0 col10\" >10</th>\n",
              "      <th id=\"T_06743_level0_col11\" class=\"col_heading level0 col11\" >11</th>\n",
              "      <th id=\"T_06743_level0_col12\" class=\"col_heading level0 col12\" >12</th>\n",
              "      <th id=\"T_06743_level0_col13\" class=\"col_heading level0 col13\" >13</th>\n",
              "      <th id=\"T_06743_level0_col14\" class=\"col_heading level0 col14\" >14</th>\n",
              "      <th id=\"T_06743_level0_col15\" class=\"col_heading level0 col15\" >15</th>\n",
              "      <th id=\"T_06743_level0_col16\" class=\"col_heading level0 col16\" >16</th>\n",
              "      <th id=\"T_06743_level0_col17\" class=\"col_heading level0 col17\" >17</th>\n",
              "      <th id=\"T_06743_level0_col18\" class=\"col_heading level0 col18\" >18</th>\n",
              "      <th id=\"T_06743_level0_col19\" class=\"col_heading level0 col19\" >19</th>\n",
              "      <th id=\"T_06743_level0_col20\" class=\"col_heading level0 col20\" >20</th>\n",
              "      <th id=\"T_06743_level0_col21\" class=\"col_heading level0 col21\" >21</th>\n",
              "      <th id=\"T_06743_level0_col22\" class=\"col_heading level0 col22\" >22</th>\n",
              "      <th id=\"T_06743_level0_col23\" class=\"col_heading level0 col23\" >23</th>\n",
              "      <th id=\"T_06743_level0_col24\" class=\"col_heading level0 col24\" >24</th>\n",
              "      <th id=\"T_06743_level0_col25\" class=\"col_heading level0 col25\" >25</th>\n",
              "      <th id=\"T_06743_level0_col26\" class=\"col_heading level0 col26\" >26</th>\n",
              "      <th id=\"T_06743_level0_col27\" class=\"col_heading level0 col27\" >27</th>\n",
              "    </tr>\n",
              "  </thead>\n",
              "  <tbody>\n",
              "    <tr>\n",
              "      <th id=\"T_06743_level0_row0\" class=\"row_heading level0 row0\" >0</th>\n",
              "      <td id=\"T_06743_row0_col0\" class=\"data row0 col0\" >0</td>\n",
              "      <td id=\"T_06743_row0_col1\" class=\"data row0 col1\" >0</td>\n",
              "      <td id=\"T_06743_row0_col2\" class=\"data row0 col2\" >0</td>\n",
              "      <td id=\"T_06743_row0_col3\" class=\"data row0 col3\" >0</td>\n",
              "      <td id=\"T_06743_row0_col4\" class=\"data row0 col4\" >0</td>\n",
              "      <td id=\"T_06743_row0_col5\" class=\"data row0 col5\" >0</td>\n",
              "      <td id=\"T_06743_row0_col6\" class=\"data row0 col6\" >0</td>\n",
              "      <td id=\"T_06743_row0_col7\" class=\"data row0 col7\" >0</td>\n",
              "      <td id=\"T_06743_row0_col8\" class=\"data row0 col8\" >0</td>\n",
              "      <td id=\"T_06743_row0_col9\" class=\"data row0 col9\" >0</td>\n",
              "      <td id=\"T_06743_row0_col10\" class=\"data row0 col10\" >0</td>\n",
              "      <td id=\"T_06743_row0_col11\" class=\"data row0 col11\" >0</td>\n",
              "      <td id=\"T_06743_row0_col12\" class=\"data row0 col12\" >0</td>\n",
              "      <td id=\"T_06743_row0_col13\" class=\"data row0 col13\" >0</td>\n",
              "      <td id=\"T_06743_row0_col14\" class=\"data row0 col14\" >0</td>\n",
              "      <td id=\"T_06743_row0_col15\" class=\"data row0 col15\" >0</td>\n",
              "      <td id=\"T_06743_row0_col16\" class=\"data row0 col16\" >0</td>\n",
              "      <td id=\"T_06743_row0_col17\" class=\"data row0 col17\" >0</td>\n",
              "      <td id=\"T_06743_row0_col18\" class=\"data row0 col18\" >0</td>\n",
              "      <td id=\"T_06743_row0_col19\" class=\"data row0 col19\" >0</td>\n",
              "      <td id=\"T_06743_row0_col20\" class=\"data row0 col20\" >0</td>\n",
              "      <td id=\"T_06743_row0_col21\" class=\"data row0 col21\" >0</td>\n",
              "      <td id=\"T_06743_row0_col22\" class=\"data row0 col22\" >0</td>\n",
              "      <td id=\"T_06743_row0_col23\" class=\"data row0 col23\" >0</td>\n",
              "      <td id=\"T_06743_row0_col24\" class=\"data row0 col24\" >0</td>\n",
              "      <td id=\"T_06743_row0_col25\" class=\"data row0 col25\" >0</td>\n",
              "      <td id=\"T_06743_row0_col26\" class=\"data row0 col26\" >0</td>\n",
              "      <td id=\"T_06743_row0_col27\" class=\"data row0 col27\" >0</td>\n",
              "    </tr>\n",
              "    <tr>\n",
              "      <th id=\"T_06743_level0_row1\" class=\"row_heading level0 row1\" >1</th>\n",
              "      <td id=\"T_06743_row1_col0\" class=\"data row1 col0\" >0</td>\n",
              "      <td id=\"T_06743_row1_col1\" class=\"data row1 col1\" >0</td>\n",
              "      <td id=\"T_06743_row1_col2\" class=\"data row1 col2\" >0</td>\n",
              "      <td id=\"T_06743_row1_col3\" class=\"data row1 col3\" >0</td>\n",
              "      <td id=\"T_06743_row1_col4\" class=\"data row1 col4\" >0</td>\n",
              "      <td id=\"T_06743_row1_col5\" class=\"data row1 col5\" >0</td>\n",
              "      <td id=\"T_06743_row1_col6\" class=\"data row1 col6\" >0</td>\n",
              "      <td id=\"T_06743_row1_col7\" class=\"data row1 col7\" >0</td>\n",
              "      <td id=\"T_06743_row1_col8\" class=\"data row1 col8\" >0</td>\n",
              "      <td id=\"T_06743_row1_col9\" class=\"data row1 col9\" >0</td>\n",
              "      <td id=\"T_06743_row1_col10\" class=\"data row1 col10\" >0</td>\n",
              "      <td id=\"T_06743_row1_col11\" class=\"data row1 col11\" >0</td>\n",
              "      <td id=\"T_06743_row1_col12\" class=\"data row1 col12\" >0</td>\n",
              "      <td id=\"T_06743_row1_col13\" class=\"data row1 col13\" >0</td>\n",
              "      <td id=\"T_06743_row1_col14\" class=\"data row1 col14\" >0</td>\n",
              "      <td id=\"T_06743_row1_col15\" class=\"data row1 col15\" >0</td>\n",
              "      <td id=\"T_06743_row1_col16\" class=\"data row1 col16\" >0</td>\n",
              "      <td id=\"T_06743_row1_col17\" class=\"data row1 col17\" >0</td>\n",
              "      <td id=\"T_06743_row1_col18\" class=\"data row1 col18\" >0</td>\n",
              "      <td id=\"T_06743_row1_col19\" class=\"data row1 col19\" >0</td>\n",
              "      <td id=\"T_06743_row1_col20\" class=\"data row1 col20\" >0</td>\n",
              "      <td id=\"T_06743_row1_col21\" class=\"data row1 col21\" >0</td>\n",
              "      <td id=\"T_06743_row1_col22\" class=\"data row1 col22\" >0</td>\n",
              "      <td id=\"T_06743_row1_col23\" class=\"data row1 col23\" >0</td>\n",
              "      <td id=\"T_06743_row1_col24\" class=\"data row1 col24\" >0</td>\n",
              "      <td id=\"T_06743_row1_col25\" class=\"data row1 col25\" >0</td>\n",
              "      <td id=\"T_06743_row1_col26\" class=\"data row1 col26\" >0</td>\n",
              "      <td id=\"T_06743_row1_col27\" class=\"data row1 col27\" >0</td>\n",
              "    </tr>\n",
              "    <tr>\n",
              "      <th id=\"T_06743_level0_row2\" class=\"row_heading level0 row2\" >2</th>\n",
              "      <td id=\"T_06743_row2_col0\" class=\"data row2 col0\" >0</td>\n",
              "      <td id=\"T_06743_row2_col1\" class=\"data row2 col1\" >0</td>\n",
              "      <td id=\"T_06743_row2_col2\" class=\"data row2 col2\" >0</td>\n",
              "      <td id=\"T_06743_row2_col3\" class=\"data row2 col3\" >0</td>\n",
              "      <td id=\"T_06743_row2_col4\" class=\"data row2 col4\" >0</td>\n",
              "      <td id=\"T_06743_row2_col5\" class=\"data row2 col5\" >0</td>\n",
              "      <td id=\"T_06743_row2_col6\" class=\"data row2 col6\" >0</td>\n",
              "      <td id=\"T_06743_row2_col7\" class=\"data row2 col7\" >0</td>\n",
              "      <td id=\"T_06743_row2_col8\" class=\"data row2 col8\" >0</td>\n",
              "      <td id=\"T_06743_row2_col9\" class=\"data row2 col9\" >0</td>\n",
              "      <td id=\"T_06743_row2_col10\" class=\"data row2 col10\" >0</td>\n",
              "      <td id=\"T_06743_row2_col11\" class=\"data row2 col11\" >0</td>\n",
              "      <td id=\"T_06743_row2_col12\" class=\"data row2 col12\" >0</td>\n",
              "      <td id=\"T_06743_row2_col13\" class=\"data row2 col13\" >0</td>\n",
              "      <td id=\"T_06743_row2_col14\" class=\"data row2 col14\" >0</td>\n",
              "      <td id=\"T_06743_row2_col15\" class=\"data row2 col15\" >0</td>\n",
              "      <td id=\"T_06743_row2_col16\" class=\"data row2 col16\" >0</td>\n",
              "      <td id=\"T_06743_row2_col17\" class=\"data row2 col17\" >0</td>\n",
              "      <td id=\"T_06743_row2_col18\" class=\"data row2 col18\" >0</td>\n",
              "      <td id=\"T_06743_row2_col19\" class=\"data row2 col19\" >0</td>\n",
              "      <td id=\"T_06743_row2_col20\" class=\"data row2 col20\" >0</td>\n",
              "      <td id=\"T_06743_row2_col21\" class=\"data row2 col21\" >0</td>\n",
              "      <td id=\"T_06743_row2_col22\" class=\"data row2 col22\" >0</td>\n",
              "      <td id=\"T_06743_row2_col23\" class=\"data row2 col23\" >0</td>\n",
              "      <td id=\"T_06743_row2_col24\" class=\"data row2 col24\" >0</td>\n",
              "      <td id=\"T_06743_row2_col25\" class=\"data row2 col25\" >0</td>\n",
              "      <td id=\"T_06743_row2_col26\" class=\"data row2 col26\" >0</td>\n",
              "      <td id=\"T_06743_row2_col27\" class=\"data row2 col27\" >0</td>\n",
              "    </tr>\n",
              "    <tr>\n",
              "      <th id=\"T_06743_level0_row3\" class=\"row_heading level0 row3\" >3</th>\n",
              "      <td id=\"T_06743_row3_col0\" class=\"data row3 col0\" >0</td>\n",
              "      <td id=\"T_06743_row3_col1\" class=\"data row3 col1\" >0</td>\n",
              "      <td id=\"T_06743_row3_col2\" class=\"data row3 col2\" >0</td>\n",
              "      <td id=\"T_06743_row3_col3\" class=\"data row3 col3\" >0</td>\n",
              "      <td id=\"T_06743_row3_col4\" class=\"data row3 col4\" >0</td>\n",
              "      <td id=\"T_06743_row3_col5\" class=\"data row3 col5\" >0</td>\n",
              "      <td id=\"T_06743_row3_col6\" class=\"data row3 col6\" >0</td>\n",
              "      <td id=\"T_06743_row3_col7\" class=\"data row3 col7\" >0</td>\n",
              "      <td id=\"T_06743_row3_col8\" class=\"data row3 col8\" >0</td>\n",
              "      <td id=\"T_06743_row3_col9\" class=\"data row3 col9\" >0</td>\n",
              "      <td id=\"T_06743_row3_col10\" class=\"data row3 col10\" >0</td>\n",
              "      <td id=\"T_06743_row3_col11\" class=\"data row3 col11\" >0</td>\n",
              "      <td id=\"T_06743_row3_col12\" class=\"data row3 col12\" >0</td>\n",
              "      <td id=\"T_06743_row3_col13\" class=\"data row3 col13\" >0</td>\n",
              "      <td id=\"T_06743_row3_col14\" class=\"data row3 col14\" >0</td>\n",
              "      <td id=\"T_06743_row3_col15\" class=\"data row3 col15\" >0</td>\n",
              "      <td id=\"T_06743_row3_col16\" class=\"data row3 col16\" >0</td>\n",
              "      <td id=\"T_06743_row3_col17\" class=\"data row3 col17\" >0</td>\n",
              "      <td id=\"T_06743_row3_col18\" class=\"data row3 col18\" >0</td>\n",
              "      <td id=\"T_06743_row3_col19\" class=\"data row3 col19\" >0</td>\n",
              "      <td id=\"T_06743_row3_col20\" class=\"data row3 col20\" >0</td>\n",
              "      <td id=\"T_06743_row3_col21\" class=\"data row3 col21\" >0</td>\n",
              "      <td id=\"T_06743_row3_col22\" class=\"data row3 col22\" >0</td>\n",
              "      <td id=\"T_06743_row3_col23\" class=\"data row3 col23\" >0</td>\n",
              "      <td id=\"T_06743_row3_col24\" class=\"data row3 col24\" >0</td>\n",
              "      <td id=\"T_06743_row3_col25\" class=\"data row3 col25\" >0</td>\n",
              "      <td id=\"T_06743_row3_col26\" class=\"data row3 col26\" >0</td>\n",
              "      <td id=\"T_06743_row3_col27\" class=\"data row3 col27\" >0</td>\n",
              "    </tr>\n",
              "    <tr>\n",
              "      <th id=\"T_06743_level0_row4\" class=\"row_heading level0 row4\" >4</th>\n",
              "      <td id=\"T_06743_row4_col0\" class=\"data row4 col0\" >0</td>\n",
              "      <td id=\"T_06743_row4_col1\" class=\"data row4 col1\" >0</td>\n",
              "      <td id=\"T_06743_row4_col2\" class=\"data row4 col2\" >0</td>\n",
              "      <td id=\"T_06743_row4_col3\" class=\"data row4 col3\" >0</td>\n",
              "      <td id=\"T_06743_row4_col4\" class=\"data row4 col4\" >0</td>\n",
              "      <td id=\"T_06743_row4_col5\" class=\"data row4 col5\" >0</td>\n",
              "      <td id=\"T_06743_row4_col6\" class=\"data row4 col6\" >0</td>\n",
              "      <td id=\"T_06743_row4_col7\" class=\"data row4 col7\" >0</td>\n",
              "      <td id=\"T_06743_row4_col8\" class=\"data row4 col8\" >0</td>\n",
              "      <td id=\"T_06743_row4_col9\" class=\"data row4 col9\" >0</td>\n",
              "      <td id=\"T_06743_row4_col10\" class=\"data row4 col10\" >0</td>\n",
              "      <td id=\"T_06743_row4_col11\" class=\"data row4 col11\" >0</td>\n",
              "      <td id=\"T_06743_row4_col12\" class=\"data row4 col12\" >0</td>\n",
              "      <td id=\"T_06743_row4_col13\" class=\"data row4 col13\" >0</td>\n",
              "      <td id=\"T_06743_row4_col14\" class=\"data row4 col14\" >0</td>\n",
              "      <td id=\"T_06743_row4_col15\" class=\"data row4 col15\" >0</td>\n",
              "      <td id=\"T_06743_row4_col16\" class=\"data row4 col16\" >0</td>\n",
              "      <td id=\"T_06743_row4_col17\" class=\"data row4 col17\" >0</td>\n",
              "      <td id=\"T_06743_row4_col18\" class=\"data row4 col18\" >0</td>\n",
              "      <td id=\"T_06743_row4_col19\" class=\"data row4 col19\" >0</td>\n",
              "      <td id=\"T_06743_row4_col20\" class=\"data row4 col20\" >0</td>\n",
              "      <td id=\"T_06743_row4_col21\" class=\"data row4 col21\" >0</td>\n",
              "      <td id=\"T_06743_row4_col22\" class=\"data row4 col22\" >0</td>\n",
              "      <td id=\"T_06743_row4_col23\" class=\"data row4 col23\" >0</td>\n",
              "      <td id=\"T_06743_row4_col24\" class=\"data row4 col24\" >0</td>\n",
              "      <td id=\"T_06743_row4_col25\" class=\"data row4 col25\" >0</td>\n",
              "      <td id=\"T_06743_row4_col26\" class=\"data row4 col26\" >0</td>\n",
              "      <td id=\"T_06743_row4_col27\" class=\"data row4 col27\" >0</td>\n",
              "    </tr>\n",
              "    <tr>\n",
              "      <th id=\"T_06743_level0_row5\" class=\"row_heading level0 row5\" >5</th>\n",
              "      <td id=\"T_06743_row5_col0\" class=\"data row5 col0\" >0</td>\n",
              "      <td id=\"T_06743_row5_col1\" class=\"data row5 col1\" >0</td>\n",
              "      <td id=\"T_06743_row5_col2\" class=\"data row5 col2\" >0</td>\n",
              "      <td id=\"T_06743_row5_col3\" class=\"data row5 col3\" >0</td>\n",
              "      <td id=\"T_06743_row5_col4\" class=\"data row5 col4\" >0</td>\n",
              "      <td id=\"T_06743_row5_col5\" class=\"data row5 col5\" >0</td>\n",
              "      <td id=\"T_06743_row5_col6\" class=\"data row5 col6\" >0</td>\n",
              "      <td id=\"T_06743_row5_col7\" class=\"data row5 col7\" >0</td>\n",
              "      <td id=\"T_06743_row5_col8\" class=\"data row5 col8\" >0</td>\n",
              "      <td id=\"T_06743_row5_col9\" class=\"data row5 col9\" >128</td>\n",
              "      <td id=\"T_06743_row5_col10\" class=\"data row5 col10\" >255</td>\n",
              "      <td id=\"T_06743_row5_col11\" class=\"data row5 col11\" >255</td>\n",
              "      <td id=\"T_06743_row5_col12\" class=\"data row5 col12\" >255</td>\n",
              "      <td id=\"T_06743_row5_col13\" class=\"data row5 col13\" >255</td>\n",
              "      <td id=\"T_06743_row5_col14\" class=\"data row5 col14\" >255</td>\n",
              "      <td id=\"T_06743_row5_col15\" class=\"data row5 col15\" >255</td>\n",
              "      <td id=\"T_06743_row5_col16\" class=\"data row5 col16\" >255</td>\n",
              "      <td id=\"T_06743_row5_col17\" class=\"data row5 col17\" >191</td>\n",
              "      <td id=\"T_06743_row5_col18\" class=\"data row5 col18\" >64</td>\n",
              "      <td id=\"T_06743_row5_col19\" class=\"data row5 col19\" >0</td>\n",
              "      <td id=\"T_06743_row5_col20\" class=\"data row5 col20\" >0</td>\n",
              "      <td id=\"T_06743_row5_col21\" class=\"data row5 col21\" >0</td>\n",
              "      <td id=\"T_06743_row5_col22\" class=\"data row5 col22\" >0</td>\n",
              "      <td id=\"T_06743_row5_col23\" class=\"data row5 col23\" >0</td>\n",
              "      <td id=\"T_06743_row5_col24\" class=\"data row5 col24\" >0</td>\n",
              "      <td id=\"T_06743_row5_col25\" class=\"data row5 col25\" >0</td>\n",
              "      <td id=\"T_06743_row5_col26\" class=\"data row5 col26\" >0</td>\n",
              "      <td id=\"T_06743_row5_col27\" class=\"data row5 col27\" >0</td>\n",
              "    </tr>\n",
              "    <tr>\n",
              "      <th id=\"T_06743_level0_row6\" class=\"row_heading level0 row6\" >6</th>\n",
              "      <td id=\"T_06743_row6_col0\" class=\"data row6 col0\" >0</td>\n",
              "      <td id=\"T_06743_row6_col1\" class=\"data row6 col1\" >0</td>\n",
              "      <td id=\"T_06743_row6_col2\" class=\"data row6 col2\" >0</td>\n",
              "      <td id=\"T_06743_row6_col3\" class=\"data row6 col3\" >0</td>\n",
              "      <td id=\"T_06743_row6_col4\" class=\"data row6 col4\" >0</td>\n",
              "      <td id=\"T_06743_row6_col5\" class=\"data row6 col5\" >0</td>\n",
              "      <td id=\"T_06743_row6_col6\" class=\"data row6 col6\" >64</td>\n",
              "      <td id=\"T_06743_row6_col7\" class=\"data row6 col7\" >191</td>\n",
              "      <td id=\"T_06743_row6_col8\" class=\"data row6 col8\" >255</td>\n",
              "      <td id=\"T_06743_row6_col9\" class=\"data row6 col9\" >255</td>\n",
              "      <td id=\"T_06743_row6_col10\" class=\"data row6 col10\" >255</td>\n",
              "      <td id=\"T_06743_row6_col11\" class=\"data row6 col11\" >255</td>\n",
              "      <td id=\"T_06743_row6_col12\" class=\"data row6 col12\" >255</td>\n",
              "      <td id=\"T_06743_row6_col13\" class=\"data row6 col13\" >255</td>\n",
              "      <td id=\"T_06743_row6_col14\" class=\"data row6 col14\" >255</td>\n",
              "      <td id=\"T_06743_row6_col15\" class=\"data row6 col15\" >255</td>\n",
              "      <td id=\"T_06743_row6_col16\" class=\"data row6 col16\" >255</td>\n",
              "      <td id=\"T_06743_row6_col17\" class=\"data row6 col17\" >255</td>\n",
              "      <td id=\"T_06743_row6_col18\" class=\"data row6 col18\" >191</td>\n",
              "      <td id=\"T_06743_row6_col19\" class=\"data row6 col19\" >64</td>\n",
              "      <td id=\"T_06743_row6_col20\" class=\"data row6 col20\" >0</td>\n",
              "      <td id=\"T_06743_row6_col21\" class=\"data row6 col21\" >0</td>\n",
              "      <td id=\"T_06743_row6_col22\" class=\"data row6 col22\" >0</td>\n",
              "      <td id=\"T_06743_row6_col23\" class=\"data row6 col23\" >0</td>\n",
              "      <td id=\"T_06743_row6_col24\" class=\"data row6 col24\" >0</td>\n",
              "      <td id=\"T_06743_row6_col25\" class=\"data row6 col25\" >0</td>\n",
              "      <td id=\"T_06743_row6_col26\" class=\"data row6 col26\" >0</td>\n",
              "      <td id=\"T_06743_row6_col27\" class=\"data row6 col27\" >0</td>\n",
              "    </tr>\n",
              "    <tr>\n",
              "      <th id=\"T_06743_level0_row7\" class=\"row_heading level0 row7\" >7</th>\n",
              "      <td id=\"T_06743_row7_col0\" class=\"data row7 col0\" >0</td>\n",
              "      <td id=\"T_06743_row7_col1\" class=\"data row7 col1\" >0</td>\n",
              "      <td id=\"T_06743_row7_col2\" class=\"data row7 col2\" >0</td>\n",
              "      <td id=\"T_06743_row7_col3\" class=\"data row7 col3\" >0</td>\n",
              "      <td id=\"T_06743_row7_col4\" class=\"data row7 col4\" >0</td>\n",
              "      <td id=\"T_06743_row7_col5\" class=\"data row7 col5\" >0</td>\n",
              "      <td id=\"T_06743_row7_col6\" class=\"data row7 col6\" >128</td>\n",
              "      <td id=\"T_06743_row7_col7\" class=\"data row7 col7\" >255</td>\n",
              "      <td id=\"T_06743_row7_col8\" class=\"data row7 col8\" >255</td>\n",
              "      <td id=\"T_06743_row7_col9\" class=\"data row7 col9\" >255</td>\n",
              "      <td id=\"T_06743_row7_col10\" class=\"data row7 col10\" >255</td>\n",
              "      <td id=\"T_06743_row7_col11\" class=\"data row7 col11\" >255</td>\n",
              "      <td id=\"T_06743_row7_col12\" class=\"data row7 col12\" >255</td>\n",
              "      <td id=\"T_06743_row7_col13\" class=\"data row7 col13\" >255</td>\n",
              "      <td id=\"T_06743_row7_col14\" class=\"data row7 col14\" >255</td>\n",
              "      <td id=\"T_06743_row7_col15\" class=\"data row7 col15\" >255</td>\n",
              "      <td id=\"T_06743_row7_col16\" class=\"data row7 col16\" >255</td>\n",
              "      <td id=\"T_06743_row7_col17\" class=\"data row7 col17\" >255</td>\n",
              "      <td id=\"T_06743_row7_col18\" class=\"data row7 col18\" >255</td>\n",
              "      <td id=\"T_06743_row7_col19\" class=\"data row7 col19\" >128</td>\n",
              "      <td id=\"T_06743_row7_col20\" class=\"data row7 col20\" >0</td>\n",
              "      <td id=\"T_06743_row7_col21\" class=\"data row7 col21\" >0</td>\n",
              "      <td id=\"T_06743_row7_col22\" class=\"data row7 col22\" >0</td>\n",
              "      <td id=\"T_06743_row7_col23\" class=\"data row7 col23\" >0</td>\n",
              "      <td id=\"T_06743_row7_col24\" class=\"data row7 col24\" >0</td>\n",
              "      <td id=\"T_06743_row7_col25\" class=\"data row7 col25\" >0</td>\n",
              "      <td id=\"T_06743_row7_col26\" class=\"data row7 col26\" >0</td>\n",
              "      <td id=\"T_06743_row7_col27\" class=\"data row7 col27\" >0</td>\n",
              "    </tr>\n",
              "    <tr>\n",
              "      <th id=\"T_06743_level0_row8\" class=\"row_heading level0 row8\" >8</th>\n",
              "      <td id=\"T_06743_row8_col0\" class=\"data row8 col0\" >0</td>\n",
              "      <td id=\"T_06743_row8_col1\" class=\"data row8 col1\" >0</td>\n",
              "      <td id=\"T_06743_row8_col2\" class=\"data row8 col2\" >0</td>\n",
              "      <td id=\"T_06743_row8_col3\" class=\"data row8 col3\" >0</td>\n",
              "      <td id=\"T_06743_row8_col4\" class=\"data row8 col4\" >0</td>\n",
              "      <td id=\"T_06743_row8_col5\" class=\"data row8 col5\" >0</td>\n",
              "      <td id=\"T_06743_row8_col6\" class=\"data row8 col6\" >128</td>\n",
              "      <td id=\"T_06743_row8_col7\" class=\"data row8 col7\" >255</td>\n",
              "      <td id=\"T_06743_row8_col8\" class=\"data row8 col8\" >255</td>\n",
              "      <td id=\"T_06743_row8_col9\" class=\"data row8 col9\" >255</td>\n",
              "      <td id=\"T_06743_row8_col10\" class=\"data row8 col10\" >255</td>\n",
              "      <td id=\"T_06743_row8_col11\" class=\"data row8 col11\" >128</td>\n",
              "      <td id=\"T_06743_row8_col12\" class=\"data row8 col12\" >128</td>\n",
              "      <td id=\"T_06743_row8_col13\" class=\"data row8 col13\" >128</td>\n",
              "      <td id=\"T_06743_row8_col14\" class=\"data row8 col14\" >0</td>\n",
              "      <td id=\"T_06743_row8_col15\" class=\"data row8 col15\" >64</td>\n",
              "      <td id=\"T_06743_row8_col16\" class=\"data row8 col16\" >255</td>\n",
              "      <td id=\"T_06743_row8_col17\" class=\"data row8 col17\" >255</td>\n",
              "      <td id=\"T_06743_row8_col18\" class=\"data row8 col18\" >255</td>\n",
              "      <td id=\"T_06743_row8_col19\" class=\"data row8 col19\" >128</td>\n",
              "      <td id=\"T_06743_row8_col20\" class=\"data row8 col20\" >0</td>\n",
              "      <td id=\"T_06743_row8_col21\" class=\"data row8 col21\" >0</td>\n",
              "      <td id=\"T_06743_row8_col22\" class=\"data row8 col22\" >0</td>\n",
              "      <td id=\"T_06743_row8_col23\" class=\"data row8 col23\" >0</td>\n",
              "      <td id=\"T_06743_row8_col24\" class=\"data row8 col24\" >0</td>\n",
              "      <td id=\"T_06743_row8_col25\" class=\"data row8 col25\" >0</td>\n",
              "      <td id=\"T_06743_row8_col26\" class=\"data row8 col26\" >0</td>\n",
              "      <td id=\"T_06743_row8_col27\" class=\"data row8 col27\" >0</td>\n",
              "    </tr>\n",
              "    <tr>\n",
              "      <th id=\"T_06743_level0_row9\" class=\"row_heading level0 row9\" >9</th>\n",
              "      <td id=\"T_06743_row9_col0\" class=\"data row9 col0\" >0</td>\n",
              "      <td id=\"T_06743_row9_col1\" class=\"data row9 col1\" >0</td>\n",
              "      <td id=\"T_06743_row9_col2\" class=\"data row9 col2\" >0</td>\n",
              "      <td id=\"T_06743_row9_col3\" class=\"data row9 col3\" >0</td>\n",
              "      <td id=\"T_06743_row9_col4\" class=\"data row9 col4\" >0</td>\n",
              "      <td id=\"T_06743_row9_col5\" class=\"data row9 col5\" >0</td>\n",
              "      <td id=\"T_06743_row9_col6\" class=\"data row9 col6\" >0</td>\n",
              "      <td id=\"T_06743_row9_col7\" class=\"data row9 col7\" >0</td>\n",
              "      <td id=\"T_06743_row9_col8\" class=\"data row9 col8\" >0</td>\n",
              "      <td id=\"T_06743_row9_col9\" class=\"data row9 col9\" >0</td>\n",
              "      <td id=\"T_06743_row9_col10\" class=\"data row9 col10\" >0</td>\n",
              "      <td id=\"T_06743_row9_col11\" class=\"data row9 col11\" >0</td>\n",
              "      <td id=\"T_06743_row9_col12\" class=\"data row9 col12\" >0</td>\n",
              "      <td id=\"T_06743_row9_col13\" class=\"data row9 col13\" >0</td>\n",
              "      <td id=\"T_06743_row9_col14\" class=\"data row9 col14\" >0</td>\n",
              "      <td id=\"T_06743_row9_col15\" class=\"data row9 col15\" >128</td>\n",
              "      <td id=\"T_06743_row9_col16\" class=\"data row9 col16\" >255</td>\n",
              "      <td id=\"T_06743_row9_col17\" class=\"data row9 col17\" >255</td>\n",
              "      <td id=\"T_06743_row9_col18\" class=\"data row9 col18\" >255</td>\n",
              "      <td id=\"T_06743_row9_col19\" class=\"data row9 col19\" >255</td>\n",
              "      <td id=\"T_06743_row9_col20\" class=\"data row9 col20\" >0</td>\n",
              "      <td id=\"T_06743_row9_col21\" class=\"data row9 col21\" >0</td>\n",
              "      <td id=\"T_06743_row9_col22\" class=\"data row9 col22\" >0</td>\n",
              "      <td id=\"T_06743_row9_col23\" class=\"data row9 col23\" >0</td>\n",
              "      <td id=\"T_06743_row9_col24\" class=\"data row9 col24\" >0</td>\n",
              "      <td id=\"T_06743_row9_col25\" class=\"data row9 col25\" >0</td>\n",
              "      <td id=\"T_06743_row9_col26\" class=\"data row9 col26\" >0</td>\n",
              "      <td id=\"T_06743_row9_col27\" class=\"data row9 col27\" >0</td>\n",
              "    </tr>\n",
              "    <tr>\n",
              "      <th id=\"T_06743_level0_row10\" class=\"row_heading level0 row10\" >10</th>\n",
              "      <td id=\"T_06743_row10_col0\" class=\"data row10 col0\" >0</td>\n",
              "      <td id=\"T_06743_row10_col1\" class=\"data row10 col1\" >0</td>\n",
              "      <td id=\"T_06743_row10_col2\" class=\"data row10 col2\" >0</td>\n",
              "      <td id=\"T_06743_row10_col3\" class=\"data row10 col3\" >0</td>\n",
              "      <td id=\"T_06743_row10_col4\" class=\"data row10 col4\" >0</td>\n",
              "      <td id=\"T_06743_row10_col5\" class=\"data row10 col5\" >0</td>\n",
              "      <td id=\"T_06743_row10_col6\" class=\"data row10 col6\" >0</td>\n",
              "      <td id=\"T_06743_row10_col7\" class=\"data row10 col7\" >0</td>\n",
              "      <td id=\"T_06743_row10_col8\" class=\"data row10 col8\" >0</td>\n",
              "      <td id=\"T_06743_row10_col9\" class=\"data row10 col9\" >0</td>\n",
              "      <td id=\"T_06743_row10_col10\" class=\"data row10 col10\" >0</td>\n",
              "      <td id=\"T_06743_row10_col11\" class=\"data row10 col11\" >0</td>\n",
              "      <td id=\"T_06743_row10_col12\" class=\"data row10 col12\" >0</td>\n",
              "      <td id=\"T_06743_row10_col13\" class=\"data row10 col13\" >0</td>\n",
              "      <td id=\"T_06743_row10_col14\" class=\"data row10 col14\" >0</td>\n",
              "      <td id=\"T_06743_row10_col15\" class=\"data row10 col15\" >128</td>\n",
              "      <td id=\"T_06743_row10_col16\" class=\"data row10 col16\" >255</td>\n",
              "      <td id=\"T_06743_row10_col17\" class=\"data row10 col17\" >255</td>\n",
              "      <td id=\"T_06743_row10_col18\" class=\"data row10 col18\" >255</td>\n",
              "      <td id=\"T_06743_row10_col19\" class=\"data row10 col19\" >191</td>\n",
              "      <td id=\"T_06743_row10_col20\" class=\"data row10 col20\" >0</td>\n",
              "      <td id=\"T_06743_row10_col21\" class=\"data row10 col21\" >0</td>\n",
              "      <td id=\"T_06743_row10_col22\" class=\"data row10 col22\" >0</td>\n",
              "      <td id=\"T_06743_row10_col23\" class=\"data row10 col23\" >0</td>\n",
              "      <td id=\"T_06743_row10_col24\" class=\"data row10 col24\" >0</td>\n",
              "      <td id=\"T_06743_row10_col25\" class=\"data row10 col25\" >0</td>\n",
              "      <td id=\"T_06743_row10_col26\" class=\"data row10 col26\" >0</td>\n",
              "      <td id=\"T_06743_row10_col27\" class=\"data row10 col27\" >0</td>\n",
              "    </tr>\n",
              "    <tr>\n",
              "      <th id=\"T_06743_level0_row11\" class=\"row_heading level0 row11\" >11</th>\n",
              "      <td id=\"T_06743_row11_col0\" class=\"data row11 col0\" >0</td>\n",
              "      <td id=\"T_06743_row11_col1\" class=\"data row11 col1\" >0</td>\n",
              "      <td id=\"T_06743_row11_col2\" class=\"data row11 col2\" >0</td>\n",
              "      <td id=\"T_06743_row11_col3\" class=\"data row11 col3\" >0</td>\n",
              "      <td id=\"T_06743_row11_col4\" class=\"data row11 col4\" >0</td>\n",
              "      <td id=\"T_06743_row11_col5\" class=\"data row11 col5\" >0</td>\n",
              "      <td id=\"T_06743_row11_col6\" class=\"data row11 col6\" >0</td>\n",
              "      <td id=\"T_06743_row11_col7\" class=\"data row11 col7\" >0</td>\n",
              "      <td id=\"T_06743_row11_col8\" class=\"data row11 col8\" >0</td>\n",
              "      <td id=\"T_06743_row11_col9\" class=\"data row11 col9\" >0</td>\n",
              "      <td id=\"T_06743_row11_col10\" class=\"data row11 col10\" >0</td>\n",
              "      <td id=\"T_06743_row11_col11\" class=\"data row11 col11\" >0</td>\n",
              "      <td id=\"T_06743_row11_col12\" class=\"data row11 col12\" >0</td>\n",
              "      <td id=\"T_06743_row11_col13\" class=\"data row11 col13\" >64</td>\n",
              "      <td id=\"T_06743_row11_col14\" class=\"data row11 col14\" >255</td>\n",
              "      <td id=\"T_06743_row11_col15\" class=\"data row11 col15\" >255</td>\n",
              "      <td id=\"T_06743_row11_col16\" class=\"data row11 col16\" >255</td>\n",
              "      <td id=\"T_06743_row11_col17\" class=\"data row11 col17\" >255</td>\n",
              "      <td id=\"T_06743_row11_col18\" class=\"data row11 col18\" >255</td>\n",
              "      <td id=\"T_06743_row11_col19\" class=\"data row11 col19\" >64</td>\n",
              "      <td id=\"T_06743_row11_col20\" class=\"data row11 col20\" >0</td>\n",
              "      <td id=\"T_06743_row11_col21\" class=\"data row11 col21\" >0</td>\n",
              "      <td id=\"T_06743_row11_col22\" class=\"data row11 col22\" >0</td>\n",
              "      <td id=\"T_06743_row11_col23\" class=\"data row11 col23\" >0</td>\n",
              "      <td id=\"T_06743_row11_col24\" class=\"data row11 col24\" >0</td>\n",
              "      <td id=\"T_06743_row11_col25\" class=\"data row11 col25\" >0</td>\n",
              "      <td id=\"T_06743_row11_col26\" class=\"data row11 col26\" >0</td>\n",
              "      <td id=\"T_06743_row11_col27\" class=\"data row11 col27\" >0</td>\n",
              "    </tr>\n",
              "    <tr>\n",
              "      <th id=\"T_06743_level0_row12\" class=\"row_heading level0 row12\" >12</th>\n",
              "      <td id=\"T_06743_row12_col0\" class=\"data row12 col0\" >0</td>\n",
              "      <td id=\"T_06743_row12_col1\" class=\"data row12 col1\" >0</td>\n",
              "      <td id=\"T_06743_row12_col2\" class=\"data row12 col2\" >0</td>\n",
              "      <td id=\"T_06743_row12_col3\" class=\"data row12 col3\" >0</td>\n",
              "      <td id=\"T_06743_row12_col4\" class=\"data row12 col4\" >0</td>\n",
              "      <td id=\"T_06743_row12_col5\" class=\"data row12 col5\" >0</td>\n",
              "      <td id=\"T_06743_row12_col6\" class=\"data row12 col6\" >0</td>\n",
              "      <td id=\"T_06743_row12_col7\" class=\"data row12 col7\" >0</td>\n",
              "      <td id=\"T_06743_row12_col8\" class=\"data row12 col8\" >0</td>\n",
              "      <td id=\"T_06743_row12_col9\" class=\"data row12 col9\" >0</td>\n",
              "      <td id=\"T_06743_row12_col10\" class=\"data row12 col10\" >0</td>\n",
              "      <td id=\"T_06743_row12_col11\" class=\"data row12 col11\" >128</td>\n",
              "      <td id=\"T_06743_row12_col12\" class=\"data row12 col12\" >255</td>\n",
              "      <td id=\"T_06743_row12_col13\" class=\"data row12 col13\" >255</td>\n",
              "      <td id=\"T_06743_row12_col14\" class=\"data row12 col14\" >255</td>\n",
              "      <td id=\"T_06743_row12_col15\" class=\"data row12 col15\" >255</td>\n",
              "      <td id=\"T_06743_row12_col16\" class=\"data row12 col16\" >255</td>\n",
              "      <td id=\"T_06743_row12_col17\" class=\"data row12 col17\" >255</td>\n",
              "      <td id=\"T_06743_row12_col18\" class=\"data row12 col18\" >128</td>\n",
              "      <td id=\"T_06743_row12_col19\" class=\"data row12 col19\" >0</td>\n",
              "      <td id=\"T_06743_row12_col20\" class=\"data row12 col20\" >0</td>\n",
              "      <td id=\"T_06743_row12_col21\" class=\"data row12 col21\" >0</td>\n",
              "      <td id=\"T_06743_row12_col22\" class=\"data row12 col22\" >0</td>\n",
              "      <td id=\"T_06743_row12_col23\" class=\"data row12 col23\" >0</td>\n",
              "      <td id=\"T_06743_row12_col24\" class=\"data row12 col24\" >0</td>\n",
              "      <td id=\"T_06743_row12_col25\" class=\"data row12 col25\" >0</td>\n",
              "      <td id=\"T_06743_row12_col26\" class=\"data row12 col26\" >0</td>\n",
              "      <td id=\"T_06743_row12_col27\" class=\"data row12 col27\" >0</td>\n",
              "    </tr>\n",
              "    <tr>\n",
              "      <th id=\"T_06743_level0_row13\" class=\"row_heading level0 row13\" >13</th>\n",
              "      <td id=\"T_06743_row13_col0\" class=\"data row13 col0\" >0</td>\n",
              "      <td id=\"T_06743_row13_col1\" class=\"data row13 col1\" >0</td>\n",
              "      <td id=\"T_06743_row13_col2\" class=\"data row13 col2\" >0</td>\n",
              "      <td id=\"T_06743_row13_col3\" class=\"data row13 col3\" >0</td>\n",
              "      <td id=\"T_06743_row13_col4\" class=\"data row13 col4\" >0</td>\n",
              "      <td id=\"T_06743_row13_col5\" class=\"data row13 col5\" >0</td>\n",
              "      <td id=\"T_06743_row13_col6\" class=\"data row13 col6\" >0</td>\n",
              "      <td id=\"T_06743_row13_col7\" class=\"data row13 col7\" >0</td>\n",
              "      <td id=\"T_06743_row13_col8\" class=\"data row13 col8\" >0</td>\n",
              "      <td id=\"T_06743_row13_col9\" class=\"data row13 col9\" >0</td>\n",
              "      <td id=\"T_06743_row13_col10\" class=\"data row13 col10\" >128</td>\n",
              "      <td id=\"T_06743_row13_col11\" class=\"data row13 col11\" >255</td>\n",
              "      <td id=\"T_06743_row13_col12\" class=\"data row13 col12\" >255</td>\n",
              "      <td id=\"T_06743_row13_col13\" class=\"data row13 col13\" >255</td>\n",
              "      <td id=\"T_06743_row13_col14\" class=\"data row13 col14\" >255</td>\n",
              "      <td id=\"T_06743_row13_col15\" class=\"data row13 col15\" >255</td>\n",
              "      <td id=\"T_06743_row13_col16\" class=\"data row13 col16\" >255</td>\n",
              "      <td id=\"T_06743_row13_col17\" class=\"data row13 col17\" >255</td>\n",
              "      <td id=\"T_06743_row13_col18\" class=\"data row13 col18\" >64</td>\n",
              "      <td id=\"T_06743_row13_col19\" class=\"data row13 col19\" >0</td>\n",
              "      <td id=\"T_06743_row13_col20\" class=\"data row13 col20\" >0</td>\n",
              "      <td id=\"T_06743_row13_col21\" class=\"data row13 col21\" >0</td>\n",
              "      <td id=\"T_06743_row13_col22\" class=\"data row13 col22\" >0</td>\n",
              "      <td id=\"T_06743_row13_col23\" class=\"data row13 col23\" >0</td>\n",
              "      <td id=\"T_06743_row13_col24\" class=\"data row13 col24\" >0</td>\n",
              "      <td id=\"T_06743_row13_col25\" class=\"data row13 col25\" >0</td>\n",
              "      <td id=\"T_06743_row13_col26\" class=\"data row13 col26\" >0</td>\n",
              "      <td id=\"T_06743_row13_col27\" class=\"data row13 col27\" >0</td>\n",
              "    </tr>\n",
              "    <tr>\n",
              "      <th id=\"T_06743_level0_row14\" class=\"row_heading level0 row14\" >14</th>\n",
              "      <td id=\"T_06743_row14_col0\" class=\"data row14 col0\" >0</td>\n",
              "      <td id=\"T_06743_row14_col1\" class=\"data row14 col1\" >0</td>\n",
              "      <td id=\"T_06743_row14_col2\" class=\"data row14 col2\" >0</td>\n",
              "      <td id=\"T_06743_row14_col3\" class=\"data row14 col3\" >0</td>\n",
              "      <td id=\"T_06743_row14_col4\" class=\"data row14 col4\" >0</td>\n",
              "      <td id=\"T_06743_row14_col5\" class=\"data row14 col5\" >0</td>\n",
              "      <td id=\"T_06743_row14_col6\" class=\"data row14 col6\" >0</td>\n",
              "      <td id=\"T_06743_row14_col7\" class=\"data row14 col7\" >0</td>\n",
              "      <td id=\"T_06743_row14_col8\" class=\"data row14 col8\" >0</td>\n",
              "      <td id=\"T_06743_row14_col9\" class=\"data row14 col9\" >0</td>\n",
              "      <td id=\"T_06743_row14_col10\" class=\"data row14 col10\" >64</td>\n",
              "      <td id=\"T_06743_row14_col11\" class=\"data row14 col11\" >255</td>\n",
              "      <td id=\"T_06743_row14_col12\" class=\"data row14 col12\" >255</td>\n",
              "      <td id=\"T_06743_row14_col13\" class=\"data row14 col13\" >255</td>\n",
              "      <td id=\"T_06743_row14_col14\" class=\"data row14 col14\" >255</td>\n",
              "      <td id=\"T_06743_row14_col15\" class=\"data row14 col15\" >255</td>\n",
              "      <td id=\"T_06743_row14_col16\" class=\"data row14 col16\" >255</td>\n",
              "      <td id=\"T_06743_row14_col17\" class=\"data row14 col17\" >255</td>\n",
              "      <td id=\"T_06743_row14_col18\" class=\"data row14 col18\" >255</td>\n",
              "      <td id=\"T_06743_row14_col19\" class=\"data row14 col19\" >64</td>\n",
              "      <td id=\"T_06743_row14_col20\" class=\"data row14 col20\" >0</td>\n",
              "      <td id=\"T_06743_row14_col21\" class=\"data row14 col21\" >0</td>\n",
              "      <td id=\"T_06743_row14_col22\" class=\"data row14 col22\" >0</td>\n",
              "      <td id=\"T_06743_row14_col23\" class=\"data row14 col23\" >0</td>\n",
              "      <td id=\"T_06743_row14_col24\" class=\"data row14 col24\" >0</td>\n",
              "      <td id=\"T_06743_row14_col25\" class=\"data row14 col25\" >0</td>\n",
              "      <td id=\"T_06743_row14_col26\" class=\"data row14 col26\" >0</td>\n",
              "      <td id=\"T_06743_row14_col27\" class=\"data row14 col27\" >0</td>\n",
              "    </tr>\n",
              "    <tr>\n",
              "      <th id=\"T_06743_level0_row15\" class=\"row_heading level0 row15\" >15</th>\n",
              "      <td id=\"T_06743_row15_col0\" class=\"data row15 col0\" >0</td>\n",
              "      <td id=\"T_06743_row15_col1\" class=\"data row15 col1\" >0</td>\n",
              "      <td id=\"T_06743_row15_col2\" class=\"data row15 col2\" >0</td>\n",
              "      <td id=\"T_06743_row15_col3\" class=\"data row15 col3\" >0</td>\n",
              "      <td id=\"T_06743_row15_col4\" class=\"data row15 col4\" >0</td>\n",
              "      <td id=\"T_06743_row15_col5\" class=\"data row15 col5\" >0</td>\n",
              "      <td id=\"T_06743_row15_col6\" class=\"data row15 col6\" >0</td>\n",
              "      <td id=\"T_06743_row15_col7\" class=\"data row15 col7\" >0</td>\n",
              "      <td id=\"T_06743_row15_col8\" class=\"data row15 col8\" >0</td>\n",
              "      <td id=\"T_06743_row15_col9\" class=\"data row15 col9\" >0</td>\n",
              "      <td id=\"T_06743_row15_col10\" class=\"data row15 col10\" >0</td>\n",
              "      <td id=\"T_06743_row15_col11\" class=\"data row15 col11\" >0</td>\n",
              "      <td id=\"T_06743_row15_col12\" class=\"data row15 col12\" >128</td>\n",
              "      <td id=\"T_06743_row15_col13\" class=\"data row15 col13\" >128</td>\n",
              "      <td id=\"T_06743_row15_col14\" class=\"data row15 col14\" >255</td>\n",
              "      <td id=\"T_06743_row15_col15\" class=\"data row15 col15\" >255</td>\n",
              "      <td id=\"T_06743_row15_col16\" class=\"data row15 col16\" >255</td>\n",
              "      <td id=\"T_06743_row15_col17\" class=\"data row15 col17\" >255</td>\n",
              "      <td id=\"T_06743_row15_col18\" class=\"data row15 col18\" >255</td>\n",
              "      <td id=\"T_06743_row15_col19\" class=\"data row15 col19\" >255</td>\n",
              "      <td id=\"T_06743_row15_col20\" class=\"data row15 col20\" >0</td>\n",
              "      <td id=\"T_06743_row15_col21\" class=\"data row15 col21\" >0</td>\n",
              "      <td id=\"T_06743_row15_col22\" class=\"data row15 col22\" >0</td>\n",
              "      <td id=\"T_06743_row15_col23\" class=\"data row15 col23\" >0</td>\n",
              "      <td id=\"T_06743_row15_col24\" class=\"data row15 col24\" >0</td>\n",
              "      <td id=\"T_06743_row15_col25\" class=\"data row15 col25\" >0</td>\n",
              "      <td id=\"T_06743_row15_col26\" class=\"data row15 col26\" >0</td>\n",
              "      <td id=\"T_06743_row15_col27\" class=\"data row15 col27\" >0</td>\n",
              "    </tr>\n",
              "    <tr>\n",
              "      <th id=\"T_06743_level0_row16\" class=\"row_heading level0 row16\" >16</th>\n",
              "      <td id=\"T_06743_row16_col0\" class=\"data row16 col0\" >0</td>\n",
              "      <td id=\"T_06743_row16_col1\" class=\"data row16 col1\" >0</td>\n",
              "      <td id=\"T_06743_row16_col2\" class=\"data row16 col2\" >0</td>\n",
              "      <td id=\"T_06743_row16_col3\" class=\"data row16 col3\" >0</td>\n",
              "      <td id=\"T_06743_row16_col4\" class=\"data row16 col4\" >0</td>\n",
              "      <td id=\"T_06743_row16_col5\" class=\"data row16 col5\" >0</td>\n",
              "      <td id=\"T_06743_row16_col6\" class=\"data row16 col6\" >0</td>\n",
              "      <td id=\"T_06743_row16_col7\" class=\"data row16 col7\" >0</td>\n",
              "      <td id=\"T_06743_row16_col8\" class=\"data row16 col8\" >0</td>\n",
              "      <td id=\"T_06743_row16_col9\" class=\"data row16 col9\" >0</td>\n",
              "      <td id=\"T_06743_row16_col10\" class=\"data row16 col10\" >0</td>\n",
              "      <td id=\"T_06743_row16_col11\" class=\"data row16 col11\" >0</td>\n",
              "      <td id=\"T_06743_row16_col12\" class=\"data row16 col12\" >0</td>\n",
              "      <td id=\"T_06743_row16_col13\" class=\"data row16 col13\" >0</td>\n",
              "      <td id=\"T_06743_row16_col14\" class=\"data row16 col14\" >0</td>\n",
              "      <td id=\"T_06743_row16_col15\" class=\"data row16 col15\" >191</td>\n",
              "      <td id=\"T_06743_row16_col16\" class=\"data row16 col16\" >255</td>\n",
              "      <td id=\"T_06743_row16_col17\" class=\"data row16 col17\" >255</td>\n",
              "      <td id=\"T_06743_row16_col18\" class=\"data row16 col18\" >255</td>\n",
              "      <td id=\"T_06743_row16_col19\" class=\"data row16 col19\" >255</td>\n",
              "      <td id=\"T_06743_row16_col20\" class=\"data row16 col20\" >191</td>\n",
              "      <td id=\"T_06743_row16_col21\" class=\"data row16 col21\" >0</td>\n",
              "      <td id=\"T_06743_row16_col22\" class=\"data row16 col22\" >0</td>\n",
              "      <td id=\"T_06743_row16_col23\" class=\"data row16 col23\" >0</td>\n",
              "      <td id=\"T_06743_row16_col24\" class=\"data row16 col24\" >0</td>\n",
              "      <td id=\"T_06743_row16_col25\" class=\"data row16 col25\" >0</td>\n",
              "      <td id=\"T_06743_row16_col26\" class=\"data row16 col26\" >0</td>\n",
              "      <td id=\"T_06743_row16_col27\" class=\"data row16 col27\" >0</td>\n",
              "    </tr>\n",
              "    <tr>\n",
              "      <th id=\"T_06743_level0_row17\" class=\"row_heading level0 row17\" >17</th>\n",
              "      <td id=\"T_06743_row17_col0\" class=\"data row17 col0\" >0</td>\n",
              "      <td id=\"T_06743_row17_col1\" class=\"data row17 col1\" >0</td>\n",
              "      <td id=\"T_06743_row17_col2\" class=\"data row17 col2\" >0</td>\n",
              "      <td id=\"T_06743_row17_col3\" class=\"data row17 col3\" >0</td>\n",
              "      <td id=\"T_06743_row17_col4\" class=\"data row17 col4\" >0</td>\n",
              "      <td id=\"T_06743_row17_col5\" class=\"data row17 col5\" >0</td>\n",
              "      <td id=\"T_06743_row17_col6\" class=\"data row17 col6\" >0</td>\n",
              "      <td id=\"T_06743_row17_col7\" class=\"data row17 col7\" >0</td>\n",
              "      <td id=\"T_06743_row17_col8\" class=\"data row17 col8\" >0</td>\n",
              "      <td id=\"T_06743_row17_col9\" class=\"data row17 col9\" >0</td>\n",
              "      <td id=\"T_06743_row17_col10\" class=\"data row17 col10\" >0</td>\n",
              "      <td id=\"T_06743_row17_col11\" class=\"data row17 col11\" >0</td>\n",
              "      <td id=\"T_06743_row17_col12\" class=\"data row17 col12\" >0</td>\n",
              "      <td id=\"T_06743_row17_col13\" class=\"data row17 col13\" >0</td>\n",
              "      <td id=\"T_06743_row17_col14\" class=\"data row17 col14\" >0</td>\n",
              "      <td id=\"T_06743_row17_col15\" class=\"data row17 col15\" >0</td>\n",
              "      <td id=\"T_06743_row17_col16\" class=\"data row17 col16\" >64</td>\n",
              "      <td id=\"T_06743_row17_col17\" class=\"data row17 col17\" >255</td>\n",
              "      <td id=\"T_06743_row17_col18\" class=\"data row17 col18\" >255</td>\n",
              "      <td id=\"T_06743_row17_col19\" class=\"data row17 col19\" >255</td>\n",
              "      <td id=\"T_06743_row17_col20\" class=\"data row17 col20\" >255</td>\n",
              "      <td id=\"T_06743_row17_col21\" class=\"data row17 col21\" >0</td>\n",
              "      <td id=\"T_06743_row17_col22\" class=\"data row17 col22\" >0</td>\n",
              "      <td id=\"T_06743_row17_col23\" class=\"data row17 col23\" >0</td>\n",
              "      <td id=\"T_06743_row17_col24\" class=\"data row17 col24\" >0</td>\n",
              "      <td id=\"T_06743_row17_col25\" class=\"data row17 col25\" >0</td>\n",
              "      <td id=\"T_06743_row17_col26\" class=\"data row17 col26\" >0</td>\n",
              "      <td id=\"T_06743_row17_col27\" class=\"data row17 col27\" >0</td>\n",
              "    </tr>\n",
              "    <tr>\n",
              "      <th id=\"T_06743_level0_row18\" class=\"row_heading level0 row18\" >18</th>\n",
              "      <td id=\"T_06743_row18_col0\" class=\"data row18 col0\" >0</td>\n",
              "      <td id=\"T_06743_row18_col1\" class=\"data row18 col1\" >0</td>\n",
              "      <td id=\"T_06743_row18_col2\" class=\"data row18 col2\" >0</td>\n",
              "      <td id=\"T_06743_row18_col3\" class=\"data row18 col3\" >0</td>\n",
              "      <td id=\"T_06743_row18_col4\" class=\"data row18 col4\" >0</td>\n",
              "      <td id=\"T_06743_row18_col5\" class=\"data row18 col5\" >0</td>\n",
              "      <td id=\"T_06743_row18_col6\" class=\"data row18 col6\" >0</td>\n",
              "      <td id=\"T_06743_row18_col7\" class=\"data row18 col7\" >0</td>\n",
              "      <td id=\"T_06743_row18_col8\" class=\"data row18 col8\" >0</td>\n",
              "      <td id=\"T_06743_row18_col9\" class=\"data row18 col9\" >0</td>\n",
              "      <td id=\"T_06743_row18_col10\" class=\"data row18 col10\" >0</td>\n",
              "      <td id=\"T_06743_row18_col11\" class=\"data row18 col11\" >0</td>\n",
              "      <td id=\"T_06743_row18_col12\" class=\"data row18 col12\" >0</td>\n",
              "      <td id=\"T_06743_row18_col13\" class=\"data row18 col13\" >0</td>\n",
              "      <td id=\"T_06743_row18_col14\" class=\"data row18 col14\" >0</td>\n",
              "      <td id=\"T_06743_row18_col15\" class=\"data row18 col15\" >0</td>\n",
              "      <td id=\"T_06743_row18_col16\" class=\"data row18 col16\" >0</td>\n",
              "      <td id=\"T_06743_row18_col17\" class=\"data row18 col17\" >255</td>\n",
              "      <td id=\"T_06743_row18_col18\" class=\"data row18 col18\" >255</td>\n",
              "      <td id=\"T_06743_row18_col19\" class=\"data row18 col19\" >255</td>\n",
              "      <td id=\"T_06743_row18_col20\" class=\"data row18 col20\" >255</td>\n",
              "      <td id=\"T_06743_row18_col21\" class=\"data row18 col21\" >128</td>\n",
              "      <td id=\"T_06743_row18_col22\" class=\"data row18 col22\" >0</td>\n",
              "      <td id=\"T_06743_row18_col23\" class=\"data row18 col23\" >0</td>\n",
              "      <td id=\"T_06743_row18_col24\" class=\"data row18 col24\" >0</td>\n",
              "      <td id=\"T_06743_row18_col25\" class=\"data row18 col25\" >0</td>\n",
              "      <td id=\"T_06743_row18_col26\" class=\"data row18 col26\" >0</td>\n",
              "      <td id=\"T_06743_row18_col27\" class=\"data row18 col27\" >0</td>\n",
              "    </tr>\n",
              "    <tr>\n",
              "      <th id=\"T_06743_level0_row19\" class=\"row_heading level0 row19\" >19</th>\n",
              "      <td id=\"T_06743_row19_col0\" class=\"data row19 col0\" >0</td>\n",
              "      <td id=\"T_06743_row19_col1\" class=\"data row19 col1\" >0</td>\n",
              "      <td id=\"T_06743_row19_col2\" class=\"data row19 col2\" >0</td>\n",
              "      <td id=\"T_06743_row19_col3\" class=\"data row19 col3\" >0</td>\n",
              "      <td id=\"T_06743_row19_col4\" class=\"data row19 col4\" >0</td>\n",
              "      <td id=\"T_06743_row19_col5\" class=\"data row19 col5\" >0</td>\n",
              "      <td id=\"T_06743_row19_col6\" class=\"data row19 col6\" >0</td>\n",
              "      <td id=\"T_06743_row19_col7\" class=\"data row19 col7\" >0</td>\n",
              "      <td id=\"T_06743_row19_col8\" class=\"data row19 col8\" >0</td>\n",
              "      <td id=\"T_06743_row19_col9\" class=\"data row19 col9\" >0</td>\n",
              "      <td id=\"T_06743_row19_col10\" class=\"data row19 col10\" >0</td>\n",
              "      <td id=\"T_06743_row19_col11\" class=\"data row19 col11\" >0</td>\n",
              "      <td id=\"T_06743_row19_col12\" class=\"data row19 col12\" >0</td>\n",
              "      <td id=\"T_06743_row19_col13\" class=\"data row19 col13\" >0</td>\n",
              "      <td id=\"T_06743_row19_col14\" class=\"data row19 col14\" >0</td>\n",
              "      <td id=\"T_06743_row19_col15\" class=\"data row19 col15\" >0</td>\n",
              "      <td id=\"T_06743_row19_col16\" class=\"data row19 col16\" >0</td>\n",
              "      <td id=\"T_06743_row19_col17\" class=\"data row19 col17\" >255</td>\n",
              "      <td id=\"T_06743_row19_col18\" class=\"data row19 col18\" >255</td>\n",
              "      <td id=\"T_06743_row19_col19\" class=\"data row19 col19\" >255</td>\n",
              "      <td id=\"T_06743_row19_col20\" class=\"data row19 col20\" >255</td>\n",
              "      <td id=\"T_06743_row19_col21\" class=\"data row19 col21\" >128</td>\n",
              "      <td id=\"T_06743_row19_col22\" class=\"data row19 col22\" >0</td>\n",
              "      <td id=\"T_06743_row19_col23\" class=\"data row19 col23\" >0</td>\n",
              "      <td id=\"T_06743_row19_col24\" class=\"data row19 col24\" >0</td>\n",
              "      <td id=\"T_06743_row19_col25\" class=\"data row19 col25\" >0</td>\n",
              "      <td id=\"T_06743_row19_col26\" class=\"data row19 col26\" >0</td>\n",
              "      <td id=\"T_06743_row19_col27\" class=\"data row19 col27\" >0</td>\n",
              "    </tr>\n",
              "    <tr>\n",
              "      <th id=\"T_06743_level0_row20\" class=\"row_heading level0 row20\" >20</th>\n",
              "      <td id=\"T_06743_row20_col0\" class=\"data row20 col0\" >0</td>\n",
              "      <td id=\"T_06743_row20_col1\" class=\"data row20 col1\" >0</td>\n",
              "      <td id=\"T_06743_row20_col2\" class=\"data row20 col2\" >0</td>\n",
              "      <td id=\"T_06743_row20_col3\" class=\"data row20 col3\" >0</td>\n",
              "      <td id=\"T_06743_row20_col4\" class=\"data row20 col4\" >0</td>\n",
              "      <td id=\"T_06743_row20_col5\" class=\"data row20 col5\" >0</td>\n",
              "      <td id=\"T_06743_row20_col6\" class=\"data row20 col6\" >0</td>\n",
              "      <td id=\"T_06743_row20_col7\" class=\"data row20 col7\" >64</td>\n",
              "      <td id=\"T_06743_row20_col8\" class=\"data row20 col8\" >64</td>\n",
              "      <td id=\"T_06743_row20_col9\" class=\"data row20 col9\" >0</td>\n",
              "      <td id=\"T_06743_row20_col10\" class=\"data row20 col10\" >0</td>\n",
              "      <td id=\"T_06743_row20_col11\" class=\"data row20 col11\" >0</td>\n",
              "      <td id=\"T_06743_row20_col12\" class=\"data row20 col12\" >0</td>\n",
              "      <td id=\"T_06743_row20_col13\" class=\"data row20 col13\" >0</td>\n",
              "      <td id=\"T_06743_row20_col14\" class=\"data row20 col14\" >0</td>\n",
              "      <td id=\"T_06743_row20_col15\" class=\"data row20 col15\" >0</td>\n",
              "      <td id=\"T_06743_row20_col16\" class=\"data row20 col16\" >191</td>\n",
              "      <td id=\"T_06743_row20_col17\" class=\"data row20 col17\" >255</td>\n",
              "      <td id=\"T_06743_row20_col18\" class=\"data row20 col18\" >255</td>\n",
              "      <td id=\"T_06743_row20_col19\" class=\"data row20 col19\" >255</td>\n",
              "      <td id=\"T_06743_row20_col20\" class=\"data row20 col20\" >255</td>\n",
              "      <td id=\"T_06743_row20_col21\" class=\"data row20 col21\" >0</td>\n",
              "      <td id=\"T_06743_row20_col22\" class=\"data row20 col22\" >0</td>\n",
              "      <td id=\"T_06743_row20_col23\" class=\"data row20 col23\" >0</td>\n",
              "      <td id=\"T_06743_row20_col24\" class=\"data row20 col24\" >0</td>\n",
              "      <td id=\"T_06743_row20_col25\" class=\"data row20 col25\" >0</td>\n",
              "      <td id=\"T_06743_row20_col26\" class=\"data row20 col26\" >0</td>\n",
              "      <td id=\"T_06743_row20_col27\" class=\"data row20 col27\" >0</td>\n",
              "    </tr>\n",
              "    <tr>\n",
              "      <th id=\"T_06743_level0_row21\" class=\"row_heading level0 row21\" >21</th>\n",
              "      <td id=\"T_06743_row21_col0\" class=\"data row21 col0\" >0</td>\n",
              "      <td id=\"T_06743_row21_col1\" class=\"data row21 col1\" >0</td>\n",
              "      <td id=\"T_06743_row21_col2\" class=\"data row21 col2\" >0</td>\n",
              "      <td id=\"T_06743_row21_col3\" class=\"data row21 col3\" >0</td>\n",
              "      <td id=\"T_06743_row21_col4\" class=\"data row21 col4\" >0</td>\n",
              "      <td id=\"T_06743_row21_col5\" class=\"data row21 col5\" >0</td>\n",
              "      <td id=\"T_06743_row21_col6\" class=\"data row21 col6\" >128</td>\n",
              "      <td id=\"T_06743_row21_col7\" class=\"data row21 col7\" >255</td>\n",
              "      <td id=\"T_06743_row21_col8\" class=\"data row21 col8\" >255</td>\n",
              "      <td id=\"T_06743_row21_col9\" class=\"data row21 col9\" >255</td>\n",
              "      <td id=\"T_06743_row21_col10\" class=\"data row21 col10\" >191</td>\n",
              "      <td id=\"T_06743_row21_col11\" class=\"data row21 col11\" >128</td>\n",
              "      <td id=\"T_06743_row21_col12\" class=\"data row21 col12\" >0</td>\n",
              "      <td id=\"T_06743_row21_col13\" class=\"data row21 col13\" >128</td>\n",
              "      <td id=\"T_06743_row21_col14\" class=\"data row21 col14\" >191</td>\n",
              "      <td id=\"T_06743_row21_col15\" class=\"data row21 col15\" >255</td>\n",
              "      <td id=\"T_06743_row21_col16\" class=\"data row21 col16\" >255</td>\n",
              "      <td id=\"T_06743_row21_col17\" class=\"data row21 col17\" >255</td>\n",
              "      <td id=\"T_06743_row21_col18\" class=\"data row21 col18\" >255</td>\n",
              "      <td id=\"T_06743_row21_col19\" class=\"data row21 col19\" >255</td>\n",
              "      <td id=\"T_06743_row21_col20\" class=\"data row21 col20\" >191</td>\n",
              "      <td id=\"T_06743_row21_col21\" class=\"data row21 col21\" >0</td>\n",
              "      <td id=\"T_06743_row21_col22\" class=\"data row21 col22\" >0</td>\n",
              "      <td id=\"T_06743_row21_col23\" class=\"data row21 col23\" >0</td>\n",
              "      <td id=\"T_06743_row21_col24\" class=\"data row21 col24\" >0</td>\n",
              "      <td id=\"T_06743_row21_col25\" class=\"data row21 col25\" >0</td>\n",
              "      <td id=\"T_06743_row21_col26\" class=\"data row21 col26\" >0</td>\n",
              "      <td id=\"T_06743_row21_col27\" class=\"data row21 col27\" >0</td>\n",
              "    </tr>\n",
              "    <tr>\n",
              "      <th id=\"T_06743_level0_row22\" class=\"row_heading level0 row22\" >22</th>\n",
              "      <td id=\"T_06743_row22_col0\" class=\"data row22 col0\" >0</td>\n",
              "      <td id=\"T_06743_row22_col1\" class=\"data row22 col1\" >0</td>\n",
              "      <td id=\"T_06743_row22_col2\" class=\"data row22 col2\" >0</td>\n",
              "      <td id=\"T_06743_row22_col3\" class=\"data row22 col3\" >0</td>\n",
              "      <td id=\"T_06743_row22_col4\" class=\"data row22 col4\" >0</td>\n",
              "      <td id=\"T_06743_row22_col5\" class=\"data row22 col5\" >0</td>\n",
              "      <td id=\"T_06743_row22_col6\" class=\"data row22 col6\" >128</td>\n",
              "      <td id=\"T_06743_row22_col7\" class=\"data row22 col7\" >255</td>\n",
              "      <td id=\"T_06743_row22_col8\" class=\"data row22 col8\" >255</td>\n",
              "      <td id=\"T_06743_row22_col9\" class=\"data row22 col9\" >255</td>\n",
              "      <td id=\"T_06743_row22_col10\" class=\"data row22 col10\" >255</td>\n",
              "      <td id=\"T_06743_row22_col11\" class=\"data row22 col11\" >255</td>\n",
              "      <td id=\"T_06743_row22_col12\" class=\"data row22 col12\" >255</td>\n",
              "      <td id=\"T_06743_row22_col13\" class=\"data row22 col13\" >255</td>\n",
              "      <td id=\"T_06743_row22_col14\" class=\"data row22 col14\" >255</td>\n",
              "      <td id=\"T_06743_row22_col15\" class=\"data row22 col15\" >255</td>\n",
              "      <td id=\"T_06743_row22_col16\" class=\"data row22 col16\" >255</td>\n",
              "      <td id=\"T_06743_row22_col17\" class=\"data row22 col17\" >255</td>\n",
              "      <td id=\"T_06743_row22_col18\" class=\"data row22 col18\" >255</td>\n",
              "      <td id=\"T_06743_row22_col19\" class=\"data row22 col19\" >255</td>\n",
              "      <td id=\"T_06743_row22_col20\" class=\"data row22 col20\" >0</td>\n",
              "      <td id=\"T_06743_row22_col21\" class=\"data row22 col21\" >0</td>\n",
              "      <td id=\"T_06743_row22_col22\" class=\"data row22 col22\" >0</td>\n",
              "      <td id=\"T_06743_row22_col23\" class=\"data row22 col23\" >0</td>\n",
              "      <td id=\"T_06743_row22_col24\" class=\"data row22 col24\" >0</td>\n",
              "      <td id=\"T_06743_row22_col25\" class=\"data row22 col25\" >0</td>\n",
              "      <td id=\"T_06743_row22_col26\" class=\"data row22 col26\" >0</td>\n",
              "      <td id=\"T_06743_row22_col27\" class=\"data row22 col27\" >0</td>\n",
              "    </tr>\n",
              "    <tr>\n",
              "      <th id=\"T_06743_level0_row23\" class=\"row_heading level0 row23\" >23</th>\n",
              "      <td id=\"T_06743_row23_col0\" class=\"data row23 col0\" >0</td>\n",
              "      <td id=\"T_06743_row23_col1\" class=\"data row23 col1\" >0</td>\n",
              "      <td id=\"T_06743_row23_col2\" class=\"data row23 col2\" >0</td>\n",
              "      <td id=\"T_06743_row23_col3\" class=\"data row23 col3\" >0</td>\n",
              "      <td id=\"T_06743_row23_col4\" class=\"data row23 col4\" >0</td>\n",
              "      <td id=\"T_06743_row23_col5\" class=\"data row23 col5\" >0</td>\n",
              "      <td id=\"T_06743_row23_col6\" class=\"data row23 col6\" >0</td>\n",
              "      <td id=\"T_06743_row23_col7\" class=\"data row23 col7\" >128</td>\n",
              "      <td id=\"T_06743_row23_col8\" class=\"data row23 col8\" >255</td>\n",
              "      <td id=\"T_06743_row23_col9\" class=\"data row23 col9\" >255</td>\n",
              "      <td id=\"T_06743_row23_col10\" class=\"data row23 col10\" >255</td>\n",
              "      <td id=\"T_06743_row23_col11\" class=\"data row23 col11\" >255</td>\n",
              "      <td id=\"T_06743_row23_col12\" class=\"data row23 col12\" >255</td>\n",
              "      <td id=\"T_06743_row23_col13\" class=\"data row23 col13\" >255</td>\n",
              "      <td id=\"T_06743_row23_col14\" class=\"data row23 col14\" >255</td>\n",
              "      <td id=\"T_06743_row23_col15\" class=\"data row23 col15\" >255</td>\n",
              "      <td id=\"T_06743_row23_col16\" class=\"data row23 col16\" >255</td>\n",
              "      <td id=\"T_06743_row23_col17\" class=\"data row23 col17\" >255</td>\n",
              "      <td id=\"T_06743_row23_col18\" class=\"data row23 col18\" >191</td>\n",
              "      <td id=\"T_06743_row23_col19\" class=\"data row23 col19\" >0</td>\n",
              "      <td id=\"T_06743_row23_col20\" class=\"data row23 col20\" >0</td>\n",
              "      <td id=\"T_06743_row23_col21\" class=\"data row23 col21\" >0</td>\n",
              "      <td id=\"T_06743_row23_col22\" class=\"data row23 col22\" >0</td>\n",
              "      <td id=\"T_06743_row23_col23\" class=\"data row23 col23\" >0</td>\n",
              "      <td id=\"T_06743_row23_col24\" class=\"data row23 col24\" >0</td>\n",
              "      <td id=\"T_06743_row23_col25\" class=\"data row23 col25\" >0</td>\n",
              "      <td id=\"T_06743_row23_col26\" class=\"data row23 col26\" >0</td>\n",
              "      <td id=\"T_06743_row23_col27\" class=\"data row23 col27\" >0</td>\n",
              "    </tr>\n",
              "    <tr>\n",
              "      <th id=\"T_06743_level0_row24\" class=\"row_heading level0 row24\" >24</th>\n",
              "      <td id=\"T_06743_row24_col0\" class=\"data row24 col0\" >0</td>\n",
              "      <td id=\"T_06743_row24_col1\" class=\"data row24 col1\" >0</td>\n",
              "      <td id=\"T_06743_row24_col2\" class=\"data row24 col2\" >0</td>\n",
              "      <td id=\"T_06743_row24_col3\" class=\"data row24 col3\" >0</td>\n",
              "      <td id=\"T_06743_row24_col4\" class=\"data row24 col4\" >0</td>\n",
              "      <td id=\"T_06743_row24_col5\" class=\"data row24 col5\" >0</td>\n",
              "      <td id=\"T_06743_row24_col6\" class=\"data row24 col6\" >0</td>\n",
              "      <td id=\"T_06743_row24_col7\" class=\"data row24 col7\" >0</td>\n",
              "      <td id=\"T_06743_row24_col8\" class=\"data row24 col8\" >0</td>\n",
              "      <td id=\"T_06743_row24_col9\" class=\"data row24 col9\" >64</td>\n",
              "      <td id=\"T_06743_row24_col10\" class=\"data row24 col10\" >128</td>\n",
              "      <td id=\"T_06743_row24_col11\" class=\"data row24 col11\" >255</td>\n",
              "      <td id=\"T_06743_row24_col12\" class=\"data row24 col12\" >255</td>\n",
              "      <td id=\"T_06743_row24_col13\" class=\"data row24 col13\" >255</td>\n",
              "      <td id=\"T_06743_row24_col14\" class=\"data row24 col14\" >255</td>\n",
              "      <td id=\"T_06743_row24_col15\" class=\"data row24 col15\" >255</td>\n",
              "      <td id=\"T_06743_row24_col16\" class=\"data row24 col16\" >128</td>\n",
              "      <td id=\"T_06743_row24_col17\" class=\"data row24 col17\" >64</td>\n",
              "      <td id=\"T_06743_row24_col18\" class=\"data row24 col18\" >0</td>\n",
              "      <td id=\"T_06743_row24_col19\" class=\"data row24 col19\" >0</td>\n",
              "      <td id=\"T_06743_row24_col20\" class=\"data row24 col20\" >0</td>\n",
              "      <td id=\"T_06743_row24_col21\" class=\"data row24 col21\" >0</td>\n",
              "      <td id=\"T_06743_row24_col22\" class=\"data row24 col22\" >0</td>\n",
              "      <td id=\"T_06743_row24_col23\" class=\"data row24 col23\" >0</td>\n",
              "      <td id=\"T_06743_row24_col24\" class=\"data row24 col24\" >0</td>\n",
              "      <td id=\"T_06743_row24_col25\" class=\"data row24 col25\" >0</td>\n",
              "      <td id=\"T_06743_row24_col26\" class=\"data row24 col26\" >0</td>\n",
              "      <td id=\"T_06743_row24_col27\" class=\"data row24 col27\" >0</td>\n",
              "    </tr>\n",
              "    <tr>\n",
              "      <th id=\"T_06743_level0_row25\" class=\"row_heading level0 row25\" >25</th>\n",
              "      <td id=\"T_06743_row25_col0\" class=\"data row25 col0\" >0</td>\n",
              "      <td id=\"T_06743_row25_col1\" class=\"data row25 col1\" >0</td>\n",
              "      <td id=\"T_06743_row25_col2\" class=\"data row25 col2\" >0</td>\n",
              "      <td id=\"T_06743_row25_col3\" class=\"data row25 col3\" >0</td>\n",
              "      <td id=\"T_06743_row25_col4\" class=\"data row25 col4\" >0</td>\n",
              "      <td id=\"T_06743_row25_col5\" class=\"data row25 col5\" >0</td>\n",
              "      <td id=\"T_06743_row25_col6\" class=\"data row25 col6\" >0</td>\n",
              "      <td id=\"T_06743_row25_col7\" class=\"data row25 col7\" >0</td>\n",
              "      <td id=\"T_06743_row25_col8\" class=\"data row25 col8\" >0</td>\n",
              "      <td id=\"T_06743_row25_col9\" class=\"data row25 col9\" >0</td>\n",
              "      <td id=\"T_06743_row25_col10\" class=\"data row25 col10\" >0</td>\n",
              "      <td id=\"T_06743_row25_col11\" class=\"data row25 col11\" >0</td>\n",
              "      <td id=\"T_06743_row25_col12\" class=\"data row25 col12\" >0</td>\n",
              "      <td id=\"T_06743_row25_col13\" class=\"data row25 col13\" >0</td>\n",
              "      <td id=\"T_06743_row25_col14\" class=\"data row25 col14\" >0</td>\n",
              "      <td id=\"T_06743_row25_col15\" class=\"data row25 col15\" >0</td>\n",
              "      <td id=\"T_06743_row25_col16\" class=\"data row25 col16\" >0</td>\n",
              "      <td id=\"T_06743_row25_col17\" class=\"data row25 col17\" >0</td>\n",
              "      <td id=\"T_06743_row25_col18\" class=\"data row25 col18\" >0</td>\n",
              "      <td id=\"T_06743_row25_col19\" class=\"data row25 col19\" >0</td>\n",
              "      <td id=\"T_06743_row25_col20\" class=\"data row25 col20\" >0</td>\n",
              "      <td id=\"T_06743_row25_col21\" class=\"data row25 col21\" >0</td>\n",
              "      <td id=\"T_06743_row25_col22\" class=\"data row25 col22\" >0</td>\n",
              "      <td id=\"T_06743_row25_col23\" class=\"data row25 col23\" >0</td>\n",
              "      <td id=\"T_06743_row25_col24\" class=\"data row25 col24\" >0</td>\n",
              "      <td id=\"T_06743_row25_col25\" class=\"data row25 col25\" >0</td>\n",
              "      <td id=\"T_06743_row25_col26\" class=\"data row25 col26\" >0</td>\n",
              "      <td id=\"T_06743_row25_col27\" class=\"data row25 col27\" >0</td>\n",
              "    </tr>\n",
              "    <tr>\n",
              "      <th id=\"T_06743_level0_row26\" class=\"row_heading level0 row26\" >26</th>\n",
              "      <td id=\"T_06743_row26_col0\" class=\"data row26 col0\" >0</td>\n",
              "      <td id=\"T_06743_row26_col1\" class=\"data row26 col1\" >0</td>\n",
              "      <td id=\"T_06743_row26_col2\" class=\"data row26 col2\" >0</td>\n",
              "      <td id=\"T_06743_row26_col3\" class=\"data row26 col3\" >0</td>\n",
              "      <td id=\"T_06743_row26_col4\" class=\"data row26 col4\" >0</td>\n",
              "      <td id=\"T_06743_row26_col5\" class=\"data row26 col5\" >0</td>\n",
              "      <td id=\"T_06743_row26_col6\" class=\"data row26 col6\" >0</td>\n",
              "      <td id=\"T_06743_row26_col7\" class=\"data row26 col7\" >0</td>\n",
              "      <td id=\"T_06743_row26_col8\" class=\"data row26 col8\" >0</td>\n",
              "      <td id=\"T_06743_row26_col9\" class=\"data row26 col9\" >0</td>\n",
              "      <td id=\"T_06743_row26_col10\" class=\"data row26 col10\" >0</td>\n",
              "      <td id=\"T_06743_row26_col11\" class=\"data row26 col11\" >0</td>\n",
              "      <td id=\"T_06743_row26_col12\" class=\"data row26 col12\" >0</td>\n",
              "      <td id=\"T_06743_row26_col13\" class=\"data row26 col13\" >0</td>\n",
              "      <td id=\"T_06743_row26_col14\" class=\"data row26 col14\" >0</td>\n",
              "      <td id=\"T_06743_row26_col15\" class=\"data row26 col15\" >0</td>\n",
              "      <td id=\"T_06743_row26_col16\" class=\"data row26 col16\" >0</td>\n",
              "      <td id=\"T_06743_row26_col17\" class=\"data row26 col17\" >0</td>\n",
              "      <td id=\"T_06743_row26_col18\" class=\"data row26 col18\" >0</td>\n",
              "      <td id=\"T_06743_row26_col19\" class=\"data row26 col19\" >0</td>\n",
              "      <td id=\"T_06743_row26_col20\" class=\"data row26 col20\" >0</td>\n",
              "      <td id=\"T_06743_row26_col21\" class=\"data row26 col21\" >0</td>\n",
              "      <td id=\"T_06743_row26_col22\" class=\"data row26 col22\" >0</td>\n",
              "      <td id=\"T_06743_row26_col23\" class=\"data row26 col23\" >0</td>\n",
              "      <td id=\"T_06743_row26_col24\" class=\"data row26 col24\" >0</td>\n",
              "      <td id=\"T_06743_row26_col25\" class=\"data row26 col25\" >0</td>\n",
              "      <td id=\"T_06743_row26_col26\" class=\"data row26 col26\" >0</td>\n",
              "      <td id=\"T_06743_row26_col27\" class=\"data row26 col27\" >0</td>\n",
              "    </tr>\n",
              "    <tr>\n",
              "      <th id=\"T_06743_level0_row27\" class=\"row_heading level0 row27\" >27</th>\n",
              "      <td id=\"T_06743_row27_col0\" class=\"data row27 col0\" >0</td>\n",
              "      <td id=\"T_06743_row27_col1\" class=\"data row27 col1\" >0</td>\n",
              "      <td id=\"T_06743_row27_col2\" class=\"data row27 col2\" >0</td>\n",
              "      <td id=\"T_06743_row27_col3\" class=\"data row27 col3\" >0</td>\n",
              "      <td id=\"T_06743_row27_col4\" class=\"data row27 col4\" >0</td>\n",
              "      <td id=\"T_06743_row27_col5\" class=\"data row27 col5\" >0</td>\n",
              "      <td id=\"T_06743_row27_col6\" class=\"data row27 col6\" >0</td>\n",
              "      <td id=\"T_06743_row27_col7\" class=\"data row27 col7\" >0</td>\n",
              "      <td id=\"T_06743_row27_col8\" class=\"data row27 col8\" >0</td>\n",
              "      <td id=\"T_06743_row27_col9\" class=\"data row27 col9\" >0</td>\n",
              "      <td id=\"T_06743_row27_col10\" class=\"data row27 col10\" >0</td>\n",
              "      <td id=\"T_06743_row27_col11\" class=\"data row27 col11\" >0</td>\n",
              "      <td id=\"T_06743_row27_col12\" class=\"data row27 col12\" >0</td>\n",
              "      <td id=\"T_06743_row27_col13\" class=\"data row27 col13\" >0</td>\n",
              "      <td id=\"T_06743_row27_col14\" class=\"data row27 col14\" >0</td>\n",
              "      <td id=\"T_06743_row27_col15\" class=\"data row27 col15\" >0</td>\n",
              "      <td id=\"T_06743_row27_col16\" class=\"data row27 col16\" >0</td>\n",
              "      <td id=\"T_06743_row27_col17\" class=\"data row27 col17\" >0</td>\n",
              "      <td id=\"T_06743_row27_col18\" class=\"data row27 col18\" >0</td>\n",
              "      <td id=\"T_06743_row27_col19\" class=\"data row27 col19\" >0</td>\n",
              "      <td id=\"T_06743_row27_col20\" class=\"data row27 col20\" >0</td>\n",
              "      <td id=\"T_06743_row27_col21\" class=\"data row27 col21\" >0</td>\n",
              "      <td id=\"T_06743_row27_col22\" class=\"data row27 col22\" >0</td>\n",
              "      <td id=\"T_06743_row27_col23\" class=\"data row27 col23\" >0</td>\n",
              "      <td id=\"T_06743_row27_col24\" class=\"data row27 col24\" >0</td>\n",
              "      <td id=\"T_06743_row27_col25\" class=\"data row27 col25\" >0</td>\n",
              "      <td id=\"T_06743_row27_col26\" class=\"data row27 col26\" >0</td>\n",
              "      <td id=\"T_06743_row27_col27\" class=\"data row27 col27\" >0</td>\n",
              "    </tr>\n",
              "  </tbody>\n",
              "</table>\n"
            ]
          },
          "metadata": {},
          "execution_count": 8
        }
      ]
    },
    {
      "cell_type": "code",
      "source": [
        "seven_tensors = [tensor(Image.open(o)) for o in sevens]\n",
        "three_tensors = [tensor(Image.open(o)) for o in threes]"
      ],
      "metadata": {
        "id": "8OrFhzs-CHQA"
      },
      "execution_count": null,
      "outputs": []
    },
    {
      "cell_type": "code",
      "source": [
        "len(seven_tensors), len(three_tensors)"
      ],
      "metadata": {
        "colab": {
          "base_uri": "https://localhost:8080/"
        },
        "id": "m4LTIrQmW2Hy",
        "outputId": "6934bedd-d24c-4eee-ab75-d4c3de693f13"
      },
      "execution_count": null,
      "outputs": [
        {
          "output_type": "execute_result",
          "data": {
            "text/plain": [
              "(6265, 6131)"
            ]
          },
          "metadata": {},
          "execution_count": 10
        }
      ]
    },
    {
      "cell_type": "code",
      "source": [
        "stacked_sevens = torch.stack(seven_tensors).float()/255\n",
        "stacked_threes = torch.stack(three_tensors).float()/255\n",
        "stacked_threes.shape # shape is the size of each axis of a tensor."
      ],
      "metadata": {
        "id": "inGBhIjNJwJL",
        "colab": {
          "base_uri": "https://localhost:8080/"
        },
        "outputId": "9e97cb5d-2ca6-4463-e3b7-eb6514d7e957"
      },
      "execution_count": null,
      "outputs": [
        {
          "output_type": "execute_result",
          "data": {
            "text/plain": [
              "torch.Size([6131, 28, 28])"
            ]
          },
          "metadata": {},
          "execution_count": 11
        }
      ]
    },
    {
      "cell_type": "code",
      "source": [
        "len(stacked_threes.shape) # the length of a tensor's shape is its rank"
      ],
      "metadata": {
        "colab": {
          "base_uri": "https://localhost:8080/"
        },
        "id": "dsMgMyRAY4Ez",
        "outputId": "d2a3cbdd-cc7f-430f-e10e-0dc8f22d58d5"
      },
      "execution_count": null,
      "outputs": [
        {
          "output_type": "execute_result",
          "data": {
            "text/plain": [
              "3"
            ]
          },
          "metadata": {},
          "execution_count": 12
        }
      ]
    },
    {
      "cell_type": "code",
      "source": [
        "stacked_threes.ndim # the number of tensor's dimensions"
      ],
      "metadata": {
        "colab": {
          "base_uri": "https://localhost:8080/"
        },
        "id": "VUr4gWzsSUCf",
        "outputId": "49cf964f-298b-45ef-f2e4-16559f665f76"
      },
      "execution_count": null,
      "outputs": [
        {
          "output_type": "execute_result",
          "data": {
            "text/plain": [
              "3"
            ]
          },
          "metadata": {},
          "execution_count": 13
        }
      ]
    },
    {
      "cell_type": "code",
      "source": [
        "# for every pixel position, this will compute the average of that pixel over all images\n",
        "mean3 = stacked_threes.mean(0) # \"ideal\" 3\n",
        "show_image(mean3)"
      ],
      "metadata": {
        "id": "WtZIDly0KeLD",
        "colab": {
          "base_uri": "https://localhost:8080/",
          "height": 151
        },
        "outputId": "820997bf-ec5a-445f-c786-ce582b8f76ef"
      },
      "execution_count": null,
      "outputs": [
        {
          "output_type": "execute_result",
          "data": {
            "text/plain": [
              "<Axes: >"
            ]
          },
          "metadata": {},
          "execution_count": 14
        },
        {
          "output_type": "display_data",
          "data": {
            "text/plain": [
              "<Figure size 100x100 with 1 Axes>"
            ],
            "image/png": "[encoded data removed]"
          },
          "metadata": {}
        }
      ]
    },
    {
      "cell_type": "code",
      "source": [
        "mean7 = stacked_sevens.mean(0)\n",
        "show_image(mean7);\n"
      ],
      "metadata": {
        "colab": {
          "base_uri": "https://localhost:8080/",
          "height": 134
        },
        "id": "blAbnraHd5pI",
        "outputId": "94e7d3ae-aedb-4a1e-8718-6ab9a0206ab2"
      },
      "execution_count": null,
      "outputs": [
        {
          "output_type": "display_data",
          "data": {
            "text/plain": [
              "<Figure size 100x100 with 1 Axes>"
            ],
            "image/png": "[encoded data removed]"
          },
          "metadata": {}
        }
      ]
    },
    {
      "cell_type": "code",
      "source": [
        "a3 = stacked_threes[69]\n",
        "show_image(a3)"
      ],
      "metadata": {
        "colab": {
          "base_uri": "https://localhost:8080/",
          "height": 151
        },
        "id": "F2Q-7c_4edLp",
        "outputId": "4de24f00-1ce9-4b19-e0ee-752ebbc679cd"
      },
      "execution_count": null,
      "outputs": [
        {
          "output_type": "execute_result",
          "data": {
            "text/plain": [
              "<Axes: >"
            ]
          },
          "metadata": {},
          "execution_count": 16
        },
        {
          "output_type": "display_data",
          "data": {
            "text/plain": [
              "<Figure size 100x100 with 1 Axes>"
            ],
            "image/png": "[encoded data removed]"
          },
          "metadata": {}
        }
      ]
    },
    {
      "cell_type": "code",
      "source": [
        "# 2 loss functions which calculate distance of a3 from mean3\n",
        "dist3_mse = ((a3 - mean3)**2).mean().sqrt()\n",
        "dist3_mae = ((a3 - mean3)).abs().mean()\n",
        "dist3_mae, dist3_mse"
      ],
      "metadata": {
        "colab": {
          "base_uri": "https://localhost:8080/"
        },
        "id": "bGpidFPz1LFn",
        "outputId": "9a3928ff-25b1-477c-f4a6-9c904baeb053"
      },
      "execution_count": null,
      "outputs": [
        {
          "output_type": "execute_result",
          "data": {
            "text/plain": [
              "(tensor(0.1122), tensor(0.1993))"
            ]
          },
          "metadata": {},
          "execution_count": 17
        }
      ]
    },
    {
      "cell_type": "code",
      "source": [
        "dist7_mse = ((a3 - mean7)**2).mean().sqrt()\n",
        "dist7_mae = (a3 - mean7).abs().mean()\n",
        "dist7_mae, dist7_mse"
      ],
      "metadata": {
        "colab": {
          "base_uri": "https://localhost:8080/"
        },
        "id": "SMijjqRW2aXe",
        "outputId": "389322b5-1b7e-4b65-e9fe-45a9964c8f7a"
      },
      "execution_count": null,
      "outputs": [
        {
          "output_type": "execute_result",
          "data": {
            "text/plain": [
              "(tensor(0.1255), tensor(0.2471))"
            ]
          },
          "metadata": {},
          "execution_count": 18
        }
      ]
    },
    {
      "cell_type": "code",
      "source": [
        "#mean square error and mean absolute error are implemented in torch.nn.functional\n",
        "import torch.nn.functional as F"
      ],
      "metadata": {
        "id": "MGjI-NZG25D2"
      },
      "execution_count": null,
      "outputs": []
    },
    {
      "cell_type": "code",
      "source": [
        "F.l1_loss(a3.float(), mean7), F.mse_loss(a3, mean7).sqrt()"
      ],
      "metadata": {
        "colab": {
          "base_uri": "https://localhost:8080/"
        },
        "id": "tOdMFvmV4dLH",
        "outputId": "c0252222-f4ef-4848-b87d-f22d48a005eb"
      },
      "execution_count": null,
      "outputs": [
        {
          "output_type": "execute_result",
          "data": {
            "text/plain": [
              "(tensor(0.1255), tensor(0.2471))"
            ]
          },
          "metadata": {},
          "execution_count": 20
        }
      ]
    },
    {
      "cell_type": "markdown",
      "source": [
        "Metrics and Broadcasting"
      ],
      "metadata": {
        "id": "676GPDgVB6Kq"
      }
    },
    {
      "cell_type": "code",
      "source": [
        "#valid_stacked_threes_tensor = torch.stack([tensor(Image.open(o)) for o in (path/'valid'/'3').ls()]).float()/255\n",
        "\n",
        "valid_threes = (path/'valid'/'3').ls()\n",
        "valid_sevens = (path/'valid'/'7').ls()\n",
        "\n",
        "valid_threes, valid_sevens"
      ],
      "metadata": {
        "colab": {
          "base_uri": "https://localhost:8080/"
        },
        "id": "3VuqVu1k6fCz",
        "outputId": "f582e169-3c30-4dbe-b948-bf1fe531557f"
      },
      "execution_count": null,
      "outputs": [
        {
          "output_type": "execute_result",
          "data": {
            "text/plain": [
              "((#1010) [Path('valid/3/686.png'),Path('valid/3/9409.png'),Path('valid/3/6285.png'),Path('valid/3/2348.png'),Path('valid/3/6289.png'),Path('valid/3/9275.png'),Path('valid/3/1513.png'),Path('valid/3/8080.png'),Path('valid/3/4162.png'),Path('valid/3/883.png')...],\n",
              " (#1028) [Path('valid/7/1721.png'),Path('valid/7/1122.png'),Path('valid/7/254.png'),Path('valid/7/4568.png'),Path('valid/7/5714.png'),Path('valid/7/8401.png'),Path('valid/7/2480.png'),Path('valid/7/9024.png'),Path('valid/7/7801.png'),Path('valid/7/4868.png')...])"
            ]
          },
          "metadata": {},
          "execution_count": 32
        }
      ]
    },
    {
      "cell_type": "code",
      "source": [
        "valid_threes_tensor = [tensor(Image.open(o)) for o in valid_threes]\n",
        "valid_sevens_tensor = [tensor(Image.open(o)) for o in valid_sevens]\n",
        "\n",
        "stacked_valid_threes_tensor = torch.stack(valid_threes_tensor).float()/255\n",
        "stacked_valid_sevens_tensor = torch.stack(valid_sevens_tensor).float()/255\n",
        "\n",
        "stacked_valid_threes_tensor.shape, stacked_valid_sevens_tensor.shape"
      ],
      "metadata": {
        "colab": {
          "base_uri": "https://localhost:8080/"
        },
        "id": "dAZvz2-IBo1-",
        "outputId": "057f6dcd-bb05-4655-af81-e5a4f2fbb565"
      },
      "execution_count": null,
      "outputs": [
        {
          "output_type": "execute_result",
          "data": {
            "text/plain": [
              "(torch.Size([1010, 28, 28]), torch.Size([1028, 28, 28]))"
            ]
          },
          "metadata": {},
          "execution_count": 33
        }
      ]
    },
    {
      "cell_type": "code",
      "source": [],
      "metadata": {
        "colab": {
          "base_uri": "https://localhost:8080/"
        },
        "id": "5pi9SfLfCS3o",
        "outputId": "3dbc8c69-eef3-4913-9bd7-8591df17fd64"
      },
      "execution_count": null,
      "outputs": [
        {
          "output_type": "execute_result",
          "data": {
            "text/plain": [
              "torch.Size([28, 28])"
            ]
          },
          "metadata": {},
          "execution_count": 42
        }
      ]
    },
    {
      "cell_type": "code",
      "source": [
        "def mnist_distance(a, b):\n",
        "  return (a-b).abs().mean((-1, -2))\n",
        "  # return F.l1_loss(a, b, reduction='none').mean([-1,-2])\n",
        "\n",
        "mnist_distance(a3, mean3)"
      ],
      "metadata": {
        "colab": {
          "base_uri": "https://localhost:8080/"
        },
        "id": "NxpCvh76D868",
        "outputId": "fad1ad49-48ec-4201-89a7-9b8696853222"
      },
      "execution_count": null,
      "outputs": [
        {
          "output_type": "execute_result",
          "data": {
            "text/plain": [
              "tensor(0.1122)"
            ]
          },
          "metadata": {},
          "execution_count": 47
        }
      ]
    },
    {
      "cell_type": "markdown",
      "source": [
        "our stacked_valid_threes_tensor is of dimension 3 whereas mean3(the ideal 3) is just 1 dimension.\n",
        "\n",
        "**Using a loop** to calculate mnist_distance between each image in stacked_valid_threes_tensor with mean3 is **SLOW**\n",
        "\n",
        "we pass stacked_valid_threes_tensor in mnist_distance.\n",
        "\n",
        "PyTorch, when it tries to perform a simple subtraction operation between two tensors of different ranks, will use **broadcasting**.\n",
        "\n",
        "*   PyTorch doesn't actually copy mean3 1,010 times. It pretends it were a tensor of that shape, but doesn't actually allocate any additional memory\n",
        "\n",
        "*   It does the whole calculation in C (or, if you're using a GPU, in CUDA, the equivalent of C on the GPU), tens of thousands of times faster than pure Python (up to millions of times faster on a GPU!).\n",
        "\n"
      ],
      "metadata": {
        "id": "X65AR8_8oFe5"
      }
    },
    {
      "cell_type": "code",
      "source": [
        "mnist_distance(stacked_valid_threes_tensor, mean3)"
      ],
      "metadata": {
        "colab": {
          "base_uri": "https://localhost:8080/"
        },
        "id": "-KCjl2Yfm2bE",
        "outputId": "cdf25221-796c-4e04-9019-08021ff483cd"
      },
      "execution_count": null,
      "outputs": [
        {
          "output_type": "execute_result",
          "data": {
            "text/plain": [
              "tensor([0.1092, 0.1493, 0.1408,  ..., 0.1299, 0.1304, 0.1478])"
            ]
          },
          "metadata": {},
          "execution_count": 57
        }
      ]
    },
    {
      "cell_type": "markdown",
      "source": [
        "Now to predict whether the image is a 3 or 7,\n",
        "\n",
        "\n",
        "*   if distance of image from mean3 < distance from mean7 => image is a 3\n",
        "\n",
        "\n",
        "*   if distance of image from mean3 > distance from mean7 => image is NOT a 3\n",
        "\n"
      ],
      "metadata": {
        "id": "neGAAGlunyaD"
      }
    },
    {
      "cell_type": "code",
      "source": [
        "def is_3(x):\n",
        "  return mnist_distance(x, mean3) < mnist_distance(x, mean7)\n",
        "\n",
        "is_3(a3), is_3(tensor(Image.open((path/'valid'/'7').ls()[2]))) #random 7 from validation set"
      ],
      "metadata": {
        "id": "9H8GQ4E81cWi",
        "colab": {
          "base_uri": "https://localhost:8080/"
        },
        "outputId": "7f527303-2575-48b9-9df3-3813a50dcd6b"
      },
      "execution_count": null,
      "outputs": [
        {
          "output_type": "execute_result",
          "data": {
            "text/plain": [
              "(tensor(True), tensor(False))"
            ]
          },
          "metadata": {},
          "execution_count": 66
        }
      ]
    },
    {
      "cell_type": "code",
      "source": [
        "accuracy3 = is_3(stacked_valid_threes_tensor).float().mean()\n",
        "accuracy7 = 1-is_3(stacked_valid_sevens_tensor).float().mean()\n",
        "\n",
        "(accuracy3+accuracy7)/2"
      ],
      "metadata": {
        "colab": {
          "base_uri": "https://localhost:8080/"
        },
        "id": "89_v-P8P2upX",
        "outputId": "5dad46f5-b0f5-4d8b-e6d1-d39d1e4dcf1b"
      },
      "execution_count": null,
      "outputs": [
        {
          "output_type": "execute_result",
          "data": {
            "text/plain": [
              "tensor(0.9511)"
            ]
          },
          "metadata": {},
          "execution_count": 77
        }
      ]
    },
    {
      "cell_type": "markdown",
      "source": [
        "**Stochastic Gradient Descent**"
      ],
      "metadata": {
        "id": "9lrTlGYY73zZ"
      }
    }
  ]
}