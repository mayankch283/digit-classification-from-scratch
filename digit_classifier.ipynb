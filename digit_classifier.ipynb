{
  "nbformat": 4,
  "nbformat_minor": 0,
  "metadata": {
    "colab": {
      "provenance": [],
      "include_colab_link": true
    },
    "kernelspec": {
      "name": "python3",
      "display_name": "Python 3"
    },
    "language_info": {
      "name": "python"
    }
  },
  "cells": [
    {
      "cell_type": "markdown",
      "metadata": {
        "id": "view-in-github",
        "colab_type": "text"
      },
      "source": [
        "<a href=\"https://colab.research.google.com/github/neuron283/deep-learning-from-scratch/blob/main/digit_classifier.ipynb\" target=\"_parent\"><img src=\"https://colab.research.google.com/assets/colab-badge.svg\" alt=\"Open In Colab\"/></a>"
      ]
    },
    {
      "cell_type": "code",
      "execution_count": 2,
      "metadata": {
        "id": "1bBW5XKI-Cf3"
      },
      "outputs": [],
      "source": [
        "!pip install -Uqq fastai"
      ]
    },
    {
      "cell_type": "code",
      "source": [
        "from fastai.vision.all import *"
      ],
      "metadata": {
        "id": "cT6HHTAS-__S"
      },
      "execution_count": 3,
      "outputs": []
    },
    {
      "cell_type": "code",
      "source": [
        "path = untar_data(URLs.MNIST_SAMPLE)\n",
        "Path.BASE_PATH = path"
      ],
      "metadata": {
        "id": "hnT74qtRBlU4"
      },
      "execution_count": null,
      "outputs": []
    },
    {
      "cell_type": "code",
      "source": [
        "path.ls()"
      ],
      "metadata": {
        "id": "X_dTkjqrzf2B"
      },
      "execution_count": null,
      "outputs": []
    },
    {
      "cell_type": "code",
      "source": [
        "(path/'valid').ls()"
      ],
      "metadata": {
        "id": "GOa1Gs8Wz0rM"
      },
      "execution_count": null,
      "outputs": []
    },
    {
      "cell_type": "code",
      "source": [
        "threes = (path/'train'/'3').ls()\n",
        "sevens = (path/'train'/'7').ls()"
      ],
      "metadata": {
        "id": "PvSz2mkO1-Yv"
      },
      "execution_count": null,
      "outputs": []
    },
    {
      "cell_type": "code",
      "source": [
        "im3_path = threes[0]\n",
        "im3 = Image.open(im3_path)\n",
        "array(im3)"
      ],
      "metadata": {
        "id": "tJA8AMy5-oLy"
      },
      "execution_count": null,
      "outputs": []
    },
    {
      "cell_type": "markdown",
      "source": [
        "**Baseline: Pixel Similarity**"
      ],
      "metadata": {
        "id": "CiL-7ZfG7Lud"
      }
    },
    {
      "cell_type": "code",
      "source": [
        "#A Tensor is a N-dimensional Matrix: A Scalar is a 0-dimensional tensor. A Vector is a 1-dimensional tensor. A Matrix is a 2-dimensional tensor.\n",
        "\n",
        "im3_t = tensor(im3)\n",
        "df = pd.DataFrame(im3_t)\n",
        "df.style.set_properties(**{'font-size':'6pt'}).background_gradient('Greys')"
      ],
      "metadata": {
        "collapsed": true,
        "id": "V7lNo5laBMB7"
      },
      "execution_count": null,
      "outputs": []
    },
    {
      "cell_type": "code",
      "source": [
        "seven_tensors = [tensor(Image.open(o)) for o in sevens]\n",
        "three_tensors = [tensor(Image.open(o)) for o in threes]"
      ],
      "metadata": {
        "id": "8OrFhzs-CHQA"
      },
      "execution_count": null,
      "outputs": []
    },
    {
      "cell_type": "code",
      "source": [
        "len(seven_tensors), len(three_tensors)"
      ],
      "metadata": {
        "id": "m4LTIrQmW2Hy"
      },
      "execution_count": null,
      "outputs": []
    },
    {
      "cell_type": "code",
      "source": [
        "stacked_sevens = torch.stack(seven_tensors).float()/255\n",
        "stacked_threes = torch.stack(three_tensors).float()/255\n",
        "stacked_threes.shape # shape is the size of each axis of a tensor."
      ],
      "metadata": {
        "id": "inGBhIjNJwJL"
      },
      "execution_count": null,
      "outputs": []
    },
    {
      "cell_type": "code",
      "source": [
        "len(stacked_threes.shape) # the length of a tensor's shape is its rank"
      ],
      "metadata": {
        "id": "dsMgMyRAY4Ez"
      },
      "execution_count": null,
      "outputs": []
    },
    {
      "cell_type": "code",
      "source": [
        "stacked_threes.ndim # the number of tensor's dimensions"
      ],
      "metadata": {
        "id": "VUr4gWzsSUCf"
      },
      "execution_count": null,
      "outputs": []
    },
    {
      "cell_type": "code",
      "source": [
        "# for every pixel position, this will compute the average of that pixel over all images\n",
        "mean3 = stacked_threes.mean(0) # \"ideal\" 3\n",
        "show_image(mean3)"
      ],
      "metadata": {
        "id": "WtZIDly0KeLD"
      },
      "execution_count": null,
      "outputs": []
    },
    {
      "cell_type": "code",
      "source": [
        "mean7 = stacked_sevens.mean(0)\n",
        "show_image(mean7);\n"
      ],
      "metadata": {
        "id": "blAbnraHd5pI"
      },
      "execution_count": null,
      "outputs": []
    },
    {
      "cell_type": "code",
      "source": [
        "a3 = stacked_threes[69]\n",
        "show_image(a3)"
      ],
      "metadata": {
        "id": "F2Q-7c_4edLp"
      },
      "execution_count": null,
      "outputs": []
    },
    {
      "cell_type": "code",
      "source": [
        "# 2 loss functions which calculate distance of a3 from mean3\n",
        "dist3_mse = ((a3 - mean3)**2).mean().sqrt()\n",
        "dist3_mae = ((a3 - mean3)).abs().mean()\n",
        "dist3_mae, dist3_mse"
      ],
      "metadata": {
        "id": "bGpidFPz1LFn"
      },
      "execution_count": null,
      "outputs": []
    },
    {
      "cell_type": "code",
      "source": [
        "dist7_mse = ((a3 - mean7)**2).mean().sqrt()\n",
        "dist7_mae = (a3 - mean7).abs().mean()\n",
        "dist7_mae, dist7_mse"
      ],
      "metadata": {
        "id": "SMijjqRW2aXe"
      },
      "execution_count": null,
      "outputs": []
    },
    {
      "cell_type": "code",
      "source": [
        "#mean square error and mean absolute error are implemented in torch.nn.functional\n",
        "import torch.nn.functional as F"
      ],
      "metadata": {
        "id": "MGjI-NZG25D2"
      },
      "execution_count": null,
      "outputs": []
    },
    {
      "cell_type": "code",
      "source": [
        "F.l1_loss(a3.float(), mean7), F.mse_loss(a3, mean7).sqrt()"
      ],
      "metadata": {
        "id": "tOdMFvmV4dLH"
      },
      "execution_count": null,
      "outputs": []
    },
    {
      "cell_type": "markdown",
      "source": [
        "Metrics and Broadcasting"
      ],
      "metadata": {
        "id": "676GPDgVB6Kq"
      }
    },
    {
      "cell_type": "code",
      "source": [
        "#valid_stacked_threes_tensor = torch.stack([tensor(Image.open(o)) for o in (path/'valid'/'3').ls()]).float()/255\n",
        "\n",
        "valid_threes = (path/'valid'/'3').ls()\n",
        "valid_sevens = (path/'valid'/'7').ls()\n",
        "\n",
        "valid_threes, valid_sevens"
      ],
      "metadata": {
        "id": "3VuqVu1k6fCz"
      },
      "execution_count": null,
      "outputs": []
    },
    {
      "cell_type": "code",
      "source": [
        "valid_threes_tensor = [tensor(Image.open(o)) for o in valid_threes]\n",
        "valid_sevens_tensor = [tensor(Image.open(o)) for o in valid_sevens]\n",
        "\n",
        "stacked_valid_threes_tensor = torch.stack(valid_threes_tensor).float()/255\n",
        "stacked_valid_sevens_tensor = torch.stack(valid_sevens_tensor).float()/255\n",
        "\n",
        "stacked_valid_threes_tensor.shape, stacked_valid_sevens_tensor.shape"
      ],
      "metadata": {
        "id": "dAZvz2-IBo1-"
      },
      "execution_count": null,
      "outputs": []
    },
    {
      "cell_type": "code",
      "source": [],
      "metadata": {
        "id": "5pi9SfLfCS3o"
      },
      "execution_count": null,
      "outputs": []
    },
    {
      "cell_type": "code",
      "source": [
        "def mnist_distance(a, b):\n",
        "  return (a-b).abs().mean((-1, -2))\n",
        "  # return F.l1_loss(a, b, reduction='none').mean([-1,-2])\n",
        "\n",
        "mnist_distance(a3, mean3)"
      ],
      "metadata": {
        "id": "NxpCvh76D868"
      },
      "execution_count": null,
      "outputs": []
    },
    {
      "cell_type": "markdown",
      "source": [
        "our stacked_valid_threes_tensor is of dimension 3 whereas mean3(the ideal 3) is just 1 dimension.\n",
        "\n",
        "**Using a loop** to calculate mnist_distance between each image in stacked_valid_threes_tensor with mean3 is **SLOW**\n",
        "\n",
        "we pass stacked_valid_threes_tensor in mnist_distance.\n",
        "\n",
        "PyTorch, when it tries to perform a simple subtraction operation between two tensors of different ranks, will use **broadcasting**.\n",
        "\n",
        "*   PyTorch doesn't actually copy mean3 1,010 times. It pretends it were a tensor of that shape, but doesn't actually allocate any additional memory\n",
        "\n",
        "*   It does the whole calculation in C (or, if you're using a GPU, in CUDA, the equivalent of C on the GPU), tens of thousands of times faster than pure Python (up to millions of times faster on a GPU!).\n",
        "\n"
      ],
      "metadata": {
        "id": "X65AR8_8oFe5"
      }
    },
    {
      "cell_type": "code",
      "source": [
        "mnist_distance(stacked_valid_threes_tensor, mean3)"
      ],
      "metadata": {
        "id": "-KCjl2Yfm2bE"
      },
      "execution_count": null,
      "outputs": []
    },
    {
      "cell_type": "markdown",
      "source": [
        "Now to predict whether the image is a 3 or 7,\n",
        "\n",
        "\n",
        "*   if distance of image from mean3 < distance from mean7 => image is a 3\n",
        "\n",
        "\n",
        "*   if distance of image from mean3 > distance from mean7 => image is NOT a 3\n",
        "\n"
      ],
      "metadata": {
        "id": "neGAAGlunyaD"
      }
    },
    {
      "cell_type": "code",
      "source": [
        "def is_3(x):\n",
        "  return mnist_distance(x, mean3) < mnist_distance(x, mean7)\n",
        "\n",
        "is_3(a3), is_3(tensor(Image.open((path/'valid'/'7').ls()[2]))) #random 7 from validation set"
      ],
      "metadata": {
        "id": "9H8GQ4E81cWi"
      },
      "execution_count": null,
      "outputs": []
    },
    {
      "cell_type": "code",
      "source": [
        "accuracy3 = is_3(stacked_valid_threes_tensor).float().mean()\n",
        "accuracy7 = 1-is_3(stacked_valid_sevens_tensor).float().mean()\n",
        "\n",
        "(accuracy3+accuracy7)/2"
      ],
      "metadata": {
        "id": "89_v-P8P2upX"
      },
      "execution_count": null,
      "outputs": []
    },
    {
      "cell_type": "markdown",
      "source": [
        "We got 90+% accuracy which is good but we can do better.\n",
        "\n",
        "Now we'll build a system that can automatically modify itself to improve its performance. In other words, it's time to talk about the training process, and SGD."
      ],
      "metadata": {
        "id": "jOYLU_ccQrHG"
      }
    },
    {
      "cell_type": "markdown",
      "source": [
        "**Stochastic Gradient Descent**\n",
        "\n",
        "In this approach, we come up with a set of weights for each pixel, such that the highest weights are associated with those pixels most likely to be black for a particular category.\n",
        "\n",
        "For example: Bottom right pixels would have low weight since they aren't very likely to be activated for a 7 but they are likely to be activated for an 8, so they should have a high weight for an 8.  \n",
        "\n",
        "This can be represented as a function and set of weight values for each possible category:\n",
        "\n",
        "```\n",
        "def pr_eight(x,w): return (x*w).sum()\n",
        "```\n",
        "\n",
        "\n",
        "Where x is the image in tensor form and w is the weights tensor.\n",
        "\n",
        "\n",
        "\n",
        "---\n",
        "\n",
        "\n",
        "\n",
        "1.   Initialize the weights.\n",
        "2.   For each image, use these weights to predict whether it appears to be a 3 or a 7.\n",
        "3. Based on these predictions, calculate how good the model is (its loss).\n",
        "4. Calculate the gradient, which measures for each weight, how changing that weight would change the loss\n",
        "5. Step (that is, change) all the weights based on that calculation.\n",
        "6. Go back to the step 2, and repeat the process.\n",
        "7. Iterate until you decide to stop the training process (for instance, because the model is good enough or you don't want to wait any longer).\n",
        "\n"
      ],
      "metadata": {
        "id": "9lrTlGYY73zZ"
      }
    },
    {
      "cell_type": "code",
      "source": [
        "def f(x): return f**2\n",
        "\n",
        "plot_function(f,'x','x^2')"
      ],
      "metadata": {
        "id": "j8-9YxaZ1BFd",
        "colab": {
          "base_uri": "https://localhost:8080/",
          "height": 184
        },
        "outputId": "6e1a03f7-5dda-464c-ece8-3a289d45e966"
      },
      "execution_count": 5,
      "outputs": [
        {
          "output_type": "error",
          "ename": "NameError",
          "evalue": "name 'plot_function' is not defined",
          "traceback": [
            "\u001b[0;31m---------------------------------------------------------------------------\u001b[0m",
            "\u001b[0;31mNameError\u001b[0m                                 Traceback (most recent call last)",
            "\u001b[0;32m<ipython-input-5-51c0c6d6e881>\u001b[0m in \u001b[0;36m<cell line: 3>\u001b[0;34m()\u001b[0m\n\u001b[1;32m      1\u001b[0m \u001b[0;32mdef\u001b[0m \u001b[0mf\u001b[0m\u001b[0;34m(\u001b[0m\u001b[0mx\u001b[0m\u001b[0;34m)\u001b[0m\u001b[0;34m:\u001b[0m \u001b[0;32mreturn\u001b[0m \u001b[0mf\u001b[0m\u001b[0;34m**\u001b[0m\u001b[0;36m2\u001b[0m\u001b[0;34m\u001b[0m\u001b[0;34m\u001b[0m\u001b[0m\n\u001b[1;32m      2\u001b[0m \u001b[0;34m\u001b[0m\u001b[0m\n\u001b[0;32m----> 3\u001b[0;31m \u001b[0mplot_function\u001b[0m\u001b[0;34m(\u001b[0m\u001b[0mf\u001b[0m\u001b[0;34m,\u001b[0m\u001b[0;34m'x'\u001b[0m\u001b[0;34m,\u001b[0m\u001b[0;34m'x^2'\u001b[0m\u001b[0;34m)\u001b[0m\u001b[0;34m\u001b[0m\u001b[0;34m\u001b[0m\u001b[0m\n\u001b[0m",
            "\u001b[0;31mNameError\u001b[0m: name 'plot_function' is not defined"
          ]
        }
      ]
    },
    {
      "cell_type": "code",
      "source": [],
      "metadata": {
        "id": "uwgHi_k_c9vA"
      },
      "execution_count": null,
      "outputs": []
    }
  ]
}